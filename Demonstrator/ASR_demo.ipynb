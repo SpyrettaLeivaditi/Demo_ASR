{
 "cells": [
  {
   "cell_type": "code",
   "execution_count": 20,
   "metadata": {},
   "outputs": [],
   "source": [
    "from os import listdir\n",
    "from os.path import isfile, join\n",
    "from glob import glob\n"
   ]
  },
  {
   "cell_type": "code",
   "execution_count": 21,
   "metadata": {},
   "outputs": [
    {
     "name": "stdout",
     "output_type": "stream",
     "text": [
      "[]\n"
     ]
    }
   ],
   "source": [
    "#get wav file paths\n",
    "\n",
    "onlyfiles = [f for f in listdir(\"/Users/spyretta/Projects/Demo_ASR/Demonstrator/train/Segments/zero\") if isfile(join(\"/Users/spyretta/Projects/Demonstrator/train/Segments/zero\", f))]\n",
    "print(onlyfiles)"
   ]
  },
  {
   "cell_type": "code",
   "execution_count": 22,
   "metadata": {},
   "outputs": [
    {
     "name": "stdout",
     "output_type": "stream",
     "text": [
      "['/Users/spyretta/Projects/Demo_ASR/Demonstrator/train/Segments/eight/elja_8_2.mfc', '/Users/spyretta/Projects/Demo_ASR/Demonstrator/train/Segments/eight/gaof_8_1.mfc', '/Users/spyretta/Projects/Demo_ASR/Demonstrator/train/Segments/eight/lian_8_2.wav', '/Users/spyretta/Projects/Demo_ASR/Demonstrator/train/Segments/eight/lian_8_3.wav', '/Users/spyretta/Projects/Demo_ASR/Demonstrator/train/Segments/eight/elja_8_3.mfc', '/Users/spyretta/Projects/Demo_ASR/Demonstrator/train/Segments/eight/elja_8_1.mfc', '/Users/spyretta/Projects/Demo_ASR/Demonstrator/train/Segments/eight/gaof_8_2.mfc', '/Users/spyretta/Projects/Demo_ASR/Demonstrator/train/Segments/eight/lian_8_1.wav', '/Users/spyretta/Projects/Demo_ASR/Demonstrator/train/Segments/eight/gaof_8_3.mfc', '/Users/spyretta/Projects/Demo_ASR/Demonstrator/train/Segments/eight/tess_8_2.mfc', '/Users/spyretta/Projects/Demo_ASR/Demonstrator/train/Segments/eight/ilse_8_2.mfc', '/Users/spyretta/Projects/Demo_ASR/Demonstrator/train/Segments/eight/tats_8_3.wav', '/Users/spyretta/Projects/Demo_ASR/Demonstrator/train/Segments/eight/aari_8_1.wav', '/Users/spyretta/Projects/Demo_ASR/Demonstrator/train/Segments/eight/tats_8_2.wav', '/Users/spyretta/Projects/Demo_ASR/Demonstrator/train/Segments/eight/ilse_8_3.mfc', '/Users/spyretta/Projects/Demo_ASR/Demonstrator/train/Segments/eight/tess_8_3.mfc', '/Users/spyretta/Projects/Demo_ASR/Demonstrator/train/Segments/eight/tess_8_1.mfc', '/Users/spyretta/Projects/Demo_ASR/Demonstrator/train/Segments/eight/ilse_8_1.mfc', '/Users/spyretta/Projects/Demo_ASR/Demonstrator/train/Segments/eight/aari_8_2.wav', '/Users/spyretta/Projects/Demo_ASR/Demonstrator/train/Segments/eight/aari_8_3.wav', '/Users/spyretta/Projects/Demo_ASR/Demonstrator/train/Segments/eight/tats_8_1.wav', '/Users/spyretta/Projects/Demo_ASR/Demonstrator/train/Segments/eight/jana_8_1.wav', '/Users/spyretta/Projects/Demo_ASR/Demonstrator/train/Segments/eight/jana_8_2.wav', '/Users/spyretta/Projects/Demo_ASR/Demonstrator/train/Segments/eight/jana_8_3.wav', '/Users/spyretta/Projects/Demo_ASR/Demonstrator/train/Segments/eight/guan_8_1.wav', '/Users/spyretta/Projects/Demo_ASR/Demonstrator/train/Segments/eight/lemi_8_1.mfc', '/Users/spyretta/Projects/Demo_ASR/Demonstrator/train/Segments/eight/benj_8_3.mfc', '/Users/spyretta/Projects/Demo_ASR/Demonstrator/train/Segments/eight/sara_8_2.mfc', '/Users/spyretta/Projects/Demo_ASR/Demonstrator/train/Segments/eight/jan_8_1.mfc', '/Users/spyretta/Projects/Demo_ASR/Demonstrator/train/Segments/eight/sara_8_3.mfc', '/Users/spyretta/Projects/Demo_ASR/Demonstrator/train/Segments/eight/sjor_8_1.mfc', '/Users/spyretta/Projects/Demo_ASR/Demonstrator/train/Segments/eight/benj_8_2.mfc', '/Users/spyretta/Projects/Demo_ASR/Demonstrator/train/Segments/eight/guan_8_2.wav', '/Users/spyretta/Projects/Demo_ASR/Demonstrator/train/Segments/eight/lemi_8_2.mfc', '/Users/spyretta/Projects/Demo_ASR/Demonstrator/train/Segments/eight/sjor_8_3.mfc', '/Users/spyretta/Projects/Demo_ASR/Demonstrator/train/Segments/eight/sara_8_1.mfc', '/Users/spyretta/Projects/Demo_ASR/Demonstrator/train/Segments/eight/jan_8_3.mfc', '/Users/spyretta/Projects/Demo_ASR/Demonstrator/train/Segments/eight/jan_8_2.mfc', '/Users/spyretta/Projects/Demo_ASR/Demonstrator/train/Segments/eight/benj_8_1.mfc', '/Users/spyretta/Projects/Demo_ASR/Demonstrator/train/Segments/eight/sjor_8_2.mfc', '/Users/spyretta/Projects/Demo_ASR/Demonstrator/train/Segments/eight/lemi_8_3.mfc', '/Users/spyretta/Projects/Demo_ASR/Demonstrator/train/Segments/eight/guan_8_3.wav', '/Users/spyretta/Projects/Demo_ASR/Demonstrator/train/Segments/eight/jana_8_1.mfc', '/Users/spyretta/Projects/Demo_ASR/Demonstrator/train/Segments/eight/jana_8_3.mfc', '/Users/spyretta/Projects/Demo_ASR/Demonstrator/train/Segments/eight/jana_8_2.mfc', '/Users/spyretta/Projects/Demo_ASR/Demonstrator/train/Segments/eight/sara_8_3.wav', '/Users/spyretta/Projects/Demo_ASR/Demonstrator/train/Segments/eight/jan_8_1.wav', '/Users/spyretta/Projects/Demo_ASR/Demonstrator/train/Segments/eight/benj_8_2.wav', '/Users/spyretta/Projects/Demo_ASR/Demonstrator/train/Segments/eight/sjor_8_1.wav', '/Users/spyretta/Projects/Demo_ASR/Demonstrator/train/Segments/eight/benj_8_3.wav', '/Users/spyretta/Projects/Demo_ASR/Demonstrator/train/Segments/eight/guan_8_1.mfc', '/Users/spyretta/Projects/Demo_ASR/Demonstrator/train/Segments/eight/lemi_8_1.wav', '/Users/spyretta/Projects/Demo_ASR/Demonstrator/train/Segments/eight/sara_8_2.wav', '/Users/spyretta/Projects/Demo_ASR/Demonstrator/train/Segments/eight/jan_8_2.wav', '/Users/spyretta/Projects/Demo_ASR/Demonstrator/train/Segments/eight/lemi_8_3.wav', '/Users/spyretta/Projects/Demo_ASR/Demonstrator/train/Segments/eight/guan_8_3.mfc', '/Users/spyretta/Projects/Demo_ASR/Demonstrator/train/Segments/eight/sjor_8_2.wav', '/Users/spyretta/Projects/Demo_ASR/Demonstrator/train/Segments/eight/benj_8_1.wav', '/Users/spyretta/Projects/Demo_ASR/Demonstrator/train/Segments/eight/sjor_8_3.wav', '/Users/spyretta/Projects/Demo_ASR/Demonstrator/train/Segments/eight/guan_8_2.mfc', '/Users/spyretta/Projects/Demo_ASR/Demonstrator/train/Segments/eight/lemi_8_2.wav', '/Users/spyretta/Projects/Demo_ASR/Demonstrator/train/Segments/eight/jan_8_3.wav', '/Users/spyretta/Projects/Demo_ASR/Demonstrator/train/Segments/eight/sara_8_1.wav', '/Users/spyretta/Projects/Demo_ASR/Demonstrator/train/Segments/eight/lian_8_3.mfc', '/Users/spyretta/Projects/Demo_ASR/Demonstrator/train/Segments/eight/elja_8_3.wav', '/Users/spyretta/Projects/Demo_ASR/Demonstrator/train/Segments/eight/elja_8_2.wav', '/Users/spyretta/Projects/Demo_ASR/Demonstrator/train/Segments/eight/gaof_8_1.wav', '/Users/spyretta/Projects/Demo_ASR/Demonstrator/train/Segments/eight/lian_8_2.mfc', '/Users/spyretta/Projects/Demo_ASR/Demonstrator/train/Segments/eight/gaof_8_3.wav', '/Users/spyretta/Projects/Demo_ASR/Demonstrator/train/Segments/eight/elja_8_1.wav', '/Users/spyretta/Projects/Demo_ASR/Demonstrator/train/Segments/eight/gaof_8_2.wav', '/Users/spyretta/Projects/Demo_ASR/Demonstrator/train/Segments/eight/lian_8_1.mfc', '/Users/spyretta/Projects/Demo_ASR/Demonstrator/train/Segments/eight/tats_8_2.mfc', '/Users/spyretta/Projects/Demo_ASR/Demonstrator/train/Segments/eight/ilse_8_3.wav', '/Users/spyretta/Projects/Demo_ASR/Demonstrator/train/Segments/eight/tess_8_3.wav', '/Users/spyretta/Projects/Demo_ASR/Demonstrator/train/Segments/eight/tess_8_2.wav', '/Users/spyretta/Projects/Demo_ASR/Demonstrator/train/Segments/eight/ilse_8_2.wav', '/Users/spyretta/Projects/Demo_ASR/Demonstrator/train/Segments/eight/tats_8_3.mfc', '/Users/spyretta/Projects/Demo_ASR/Demonstrator/train/Segments/eight/aari_8_1.mfc', '/Users/spyretta/Projects/Demo_ASR/Demonstrator/train/Segments/eight/aari_8_3.mfc', '/Users/spyretta/Projects/Demo_ASR/Demonstrator/train/Segments/eight/tats_8_1.mfc', '/Users/spyretta/Projects/Demo_ASR/Demonstrator/train/Segments/eight/tess_8_1.wav', '/Users/spyretta/Projects/Demo_ASR/Demonstrator/train/Segments/eight/ilse_8_1.wav', '/Users/spyretta/Projects/Demo_ASR/Demonstrator/train/Segments/eight/aari_8_2.mfc', '/Users/spyretta/Projects/Demo_ASR/Demonstrator/train/Segments/nine/jana_9_2.wav', '/Users/spyretta/Projects/Demo_ASR/Demonstrator/train/Segments/nine/jana_9_3.wav', '/Users/spyretta/Projects/Demo_ASR/Demonstrator/train/Segments/nine/jana_9_1.wav', '/Users/spyretta/Projects/Demo_ASR/Demonstrator/train/Segments/nine/jan_9_3.mfc', '/Users/spyretta/Projects/Demo_ASR/Demonstrator/train/Segments/nine/sara_9_1.mfc', '/Users/spyretta/Projects/Demo_ASR/Demonstrator/train/Segments/nine/sjor_9_3.mfc', '/Users/spyretta/Projects/Demo_ASR/Demonstrator/train/Segments/nine/guan_9_2.wav', '/Users/spyretta/Projects/Demo_ASR/Demonstrator/train/Segments/nine/lemi_9_2.mfc', '/Users/spyretta/Projects/Demo_ASR/Demonstrator/train/Segments/nine/lemi_9_3.mfc', '/Users/spyretta/Projects/Demo_ASR/Demonstrator/train/Segments/nine/guan_9_3.wav', '/Users/spyretta/Projects/Demo_ASR/Demonstrator/train/Segments/nine/sjor_9_2.mfc', '/Users/spyretta/Projects/Demo_ASR/Demonstrator/train/Segments/nine/benj_9_1.mfc', '/Users/spyretta/Projects/Demo_ASR/Demonstrator/train/Segments/nine/jan_9_2.mfc', '/Users/spyretta/Projects/Demo_ASR/Demonstrator/train/Segments/nine/sara_9_2.mfc', '/Users/spyretta/Projects/Demo_ASR/Demonstrator/train/Segments/nine/benj_9_3.mfc', '/Users/spyretta/Projects/Demo_ASR/Demonstrator/train/Segments/nine/guan_9_1.wav', '/Users/spyretta/Projects/Demo_ASR/Demonstrator/train/Segments/nine/lemi_9_1.mfc', '/Users/spyretta/Projects/Demo_ASR/Demonstrator/train/Segments/nine/benj_9_2.mfc', '/Users/spyretta/Projects/Demo_ASR/Demonstrator/train/Segments/nine/sjor_9_1.mfc', '/Users/spyretta/Projects/Demo_ASR/Demonstrator/train/Segments/nine/sara_9_3.mfc', '/Users/spyretta/Projects/Demo_ASR/Demonstrator/train/Segments/nine/jan_9_1.mfc', '/Users/spyretta/Projects/Demo_ASR/Demonstrator/train/Segments/nine/gaof_9_2.mfc', '/Users/spyretta/Projects/Demo_ASR/Demonstrator/train/Segments/nine/lian_9_1.wav', '/Users/spyretta/Projects/Demo_ASR/Demonstrator/train/Segments/nine/elja_9_1.mfc', '/Users/spyretta/Projects/Demo_ASR/Demonstrator/train/Segments/nine/gaof_9_3.mfc', '/Users/spyretta/Projects/Demo_ASR/Demonstrator/train/Segments/nine/gaof_9_1.mfc', '/Users/spyretta/Projects/Demo_ASR/Demonstrator/train/Segments/nine/lian_9_2.wav', '/Users/spyretta/Projects/Demo_ASR/Demonstrator/train/Segments/nine/elja_9_2.mfc', '/Users/spyretta/Projects/Demo_ASR/Demonstrator/train/Segments/nine/elja_9_3.mfc', '/Users/spyretta/Projects/Demo_ASR/Demonstrator/train/Segments/nine/lian_9_3.wav', '/Users/spyretta/Projects/Demo_ASR/Demonstrator/train/Segments/nine/aari_9_2.wav', '/Users/spyretta/Projects/Demo_ASR/Demonstrator/train/Segments/nine/tess_9_1.mfc', '/Users/spyretta/Projects/Demo_ASR/Demonstrator/train/Segments/nine/ilse_9_1.mfc', '/Users/spyretta/Projects/Demo_ASR/Demonstrator/train/Segments/nine/aari_9_3.wav', '/Users/spyretta/Projects/Demo_ASR/Demonstrator/train/Segments/nine/tats_9_1.wav', '/Users/spyretta/Projects/Demo_ASR/Demonstrator/train/Segments/nine/tats_9_3.wav', '/Users/spyretta/Projects/Demo_ASR/Demonstrator/train/Segments/nine/aari_9_1.wav', '/Users/spyretta/Projects/Demo_ASR/Demonstrator/train/Segments/nine/tess_9_2.mfc', '/Users/spyretta/Projects/Demo_ASR/Demonstrator/train/Segments/nine/ilse_9_2.mfc', '/Users/spyretta/Projects/Demo_ASR/Demonstrator/train/Segments/nine/ilse_9_3.mfc', '/Users/spyretta/Projects/Demo_ASR/Demonstrator/train/Segments/nine/tess_9_3.mfc', '/Users/spyretta/Projects/Demo_ASR/Demonstrator/train/Segments/nine/tats_9_2.wav', '/Users/spyretta/Projects/Demo_ASR/Demonstrator/train/Segments/nine/gaof_9_3.wav', '/Users/spyretta/Projects/Demo_ASR/Demonstrator/train/Segments/nine/gaof_9_2.wav', '/Users/spyretta/Projects/Demo_ASR/Demonstrator/train/Segments/nine/lian_9_1.mfc', '/Users/spyretta/Projects/Demo_ASR/Demonstrator/train/Segments/nine/elja_9_1.wav', '/Users/spyretta/Projects/Demo_ASR/Demonstrator/train/Segments/nine/elja_9_3.wav', '/Users/spyretta/Projects/Demo_ASR/Demonstrator/train/Segments/nine/lian_9_3.mfc', '/Users/spyretta/Projects/Demo_ASR/Demonstrator/train/Segments/nine/gaof_9_1.wav', '/Users/spyretta/Projects/Demo_ASR/Demonstrator/train/Segments/nine/lian_9_2.mfc', '/Users/spyretta/Projects/Demo_ASR/Demonstrator/train/Segments/nine/elja_9_2.wav', '/Users/spyretta/Projects/Demo_ASR/Demonstrator/train/Segments/nine/aari_9_3.mfc', '/Users/spyretta/Projects/Demo_ASR/Demonstrator/train/Segments/nine/tats_9_1.mfc', '/Users/spyretta/Projects/Demo_ASR/Demonstrator/train/Segments/nine/aari_9_2.mfc', '/Users/spyretta/Projects/Demo_ASR/Demonstrator/train/Segments/nine/tess_9_1.wav', '/Users/spyretta/Projects/Demo_ASR/Demonstrator/train/Segments/nine/ilse_9_1.wav', '/Users/spyretta/Projects/Demo_ASR/Demonstrator/train/Segments/nine/ilse_9_3.wav', '/Users/spyretta/Projects/Demo_ASR/Demonstrator/train/Segments/nine/tess_9_3.wav', '/Users/spyretta/Projects/Demo_ASR/Demonstrator/train/Segments/nine/tats_9_2.mfc', '/Users/spyretta/Projects/Demo_ASR/Demonstrator/train/Segments/nine/tats_9_3.mfc', '/Users/spyretta/Projects/Demo_ASR/Demonstrator/train/Segments/nine/aari_9_1.mfc', '/Users/spyretta/Projects/Demo_ASR/Demonstrator/train/Segments/nine/tess_9_2.wav', '/Users/spyretta/Projects/Demo_ASR/Demonstrator/train/Segments/nine/ilse_9_2.wav', '/Users/spyretta/Projects/Demo_ASR/Demonstrator/train/Segments/nine/jana_9_3.mfc', '/Users/spyretta/Projects/Demo_ASR/Demonstrator/train/Segments/nine/jana_9_2.mfc', '/Users/spyretta/Projects/Demo_ASR/Demonstrator/train/Segments/nine/jana_9_1.mfc', '/Users/spyretta/Projects/Demo_ASR/Demonstrator/train/Segments/nine/benj_9_1.wav', '/Users/spyretta/Projects/Demo_ASR/Demonstrator/train/Segments/nine/sjor_9_2.wav', '/Users/spyretta/Projects/Demo_ASR/Demonstrator/train/Segments/nine/lemi_9_3.wav', '/Users/spyretta/Projects/Demo_ASR/Demonstrator/train/Segments/nine/guan_9_3.mfc', '/Users/spyretta/Projects/Demo_ASR/Demonstrator/train/Segments/nine/jan_9_2.wav', '/Users/spyretta/Projects/Demo_ASR/Demonstrator/train/Segments/nine/sara_9_1.wav', '/Users/spyretta/Projects/Demo_ASR/Demonstrator/train/Segments/nine/jan_9_3.wav', '/Users/spyretta/Projects/Demo_ASR/Demonstrator/train/Segments/nine/guan_9_2.mfc', '/Users/spyretta/Projects/Demo_ASR/Demonstrator/train/Segments/nine/lemi_9_2.wav', '/Users/spyretta/Projects/Demo_ASR/Demonstrator/train/Segments/nine/sjor_9_3.wav', '/Users/spyretta/Projects/Demo_ASR/Demonstrator/train/Segments/nine/sjor_9_1.wav', '/Users/spyretta/Projects/Demo_ASR/Demonstrator/train/Segments/nine/benj_9_2.wav', '/Users/spyretta/Projects/Demo_ASR/Demonstrator/train/Segments/nine/jan_9_1.wav', '/Users/spyretta/Projects/Demo_ASR/Demonstrator/train/Segments/nine/sara_9_3.wav', '/Users/spyretta/Projects/Demo_ASR/Demonstrator/train/Segments/nine/sara_9_2.wav', '/Users/spyretta/Projects/Demo_ASR/Demonstrator/train/Segments/nine/guan_9_1.mfc', '/Users/spyretta/Projects/Demo_ASR/Demonstrator/train/Segments/nine/lemi_9_1.wav', '/Users/spyretta/Projects/Demo_ASR/Demonstrator/train/Segments/nine/benj_9_3.wav', '/Users/spyretta/Projects/Demo_ASR/Demonstrator/train/Segments/three/jana_3_1.mfc', '/Users/spyretta/Projects/Demo_ASR/Demonstrator/train/Segments/three/jana_3_2.mfc', '/Users/spyretta/Projects/Demo_ASR/Demonstrator/train/Segments/three/jana_3_3.mfc', '/Users/spyretta/Projects/Demo_ASR/Demonstrator/train/Segments/three/sara_3_2.wav', '/Users/spyretta/Projects/Demo_ASR/Demonstrator/train/Segments/three/benj_3_3.wav', '/Users/spyretta/Projects/Demo_ASR/Demonstrator/train/Segments/three/guan_3_1.mfc', '/Users/spyretta/Projects/Demo_ASR/Demonstrator/train/Segments/three/lemi_3_1.wav', '/Users/spyretta/Projects/Demo_ASR/Demonstrator/train/Segments/three/sjor_3_1.wav', '/Users/spyretta/Projects/Demo_ASR/Demonstrator/train/Segments/three/benj_3_2.wav', '/Users/spyretta/Projects/Demo_ASR/Demonstrator/train/Segments/three/jan_3_1.wav', '/Users/spyretta/Projects/Demo_ASR/Demonstrator/train/Segments/three/sara_3_3.wav', '/Users/spyretta/Projects/Demo_ASR/Demonstrator/train/Segments/three/sara_3_1.wav', '/Users/spyretta/Projects/Demo_ASR/Demonstrator/train/Segments/three/jan_3_3.wav', '/Users/spyretta/Projects/Demo_ASR/Demonstrator/train/Segments/three/sjor_3_3.wav', '/Users/spyretta/Projects/Demo_ASR/Demonstrator/train/Segments/three/guan_3_2.mfc', '/Users/spyretta/Projects/Demo_ASR/Demonstrator/train/Segments/three/lemi_3_2.wav', '/Users/spyretta/Projects/Demo_ASR/Demonstrator/train/Segments/three/lemi_3_3.wav', '/Users/spyretta/Projects/Demo_ASR/Demonstrator/train/Segments/three/guan_3_3.mfc', '/Users/spyretta/Projects/Demo_ASR/Demonstrator/train/Segments/three/benj_3_1.wav', '/Users/spyretta/Projects/Demo_ASR/Demonstrator/train/Segments/three/sjor_3_2.wav', '/Users/spyretta/Projects/Demo_ASR/Demonstrator/train/Segments/three/jan_3_2.wav', '/Users/spyretta/Projects/Demo_ASR/Demonstrator/train/Segments/three/gaof_3_1.wav', '/Users/spyretta/Projects/Demo_ASR/Demonstrator/train/Segments/three/lian_3_2.mfc', '/Users/spyretta/Projects/Demo_ASR/Demonstrator/train/Segments/three/elja_3_2.wav', '/Users/spyretta/Projects/Demo_ASR/Demonstrator/train/Segments/three/elja_3_3.wav', '/Users/spyretta/Projects/Demo_ASR/Demonstrator/train/Segments/three/lian_3_3.mfc', '/Users/spyretta/Projects/Demo_ASR/Demonstrator/train/Segments/three/gaof_3_2.wav', '/Users/spyretta/Projects/Demo_ASR/Demonstrator/train/Segments/three/lian_3_1.mfc', '/Users/spyretta/Projects/Demo_ASR/Demonstrator/train/Segments/three/elja_3_1.wav', '/Users/spyretta/Projects/Demo_ASR/Demonstrator/train/Segments/three/gaof_3_3.wav', '/Users/spyretta/Projects/Demo_ASR/Demonstrator/train/Segments/three/tats_3_3.mfc', '/Users/spyretta/Projects/Demo_ASR/Demonstrator/train/Segments/three/aari_3_1.mfc', '/Users/spyretta/Projects/Demo_ASR/Demonstrator/train/Segments/three/ilse_3_2.wav', '/Users/spyretta/Projects/Demo_ASR/Demonstrator/train/Segments/three/tess_3_2.wav', '/Users/spyretta/Projects/Demo_ASR/Demonstrator/train/Segments/three/tess_3_3.wav', '/Users/spyretta/Projects/Demo_ASR/Demonstrator/train/Segments/three/ilse_3_3.wav', '/Users/spyretta/Projects/Demo_ASR/Demonstrator/train/Segments/three/tats_3_2.mfc', '/Users/spyretta/Projects/Demo_ASR/Demonstrator/train/Segments/three/aari_3_2.mfc', '/Users/spyretta/Projects/Demo_ASR/Demonstrator/train/Segments/three/ilse_3_1.wav', '/Users/spyretta/Projects/Demo_ASR/Demonstrator/train/Segments/three/tess_3_1.wav', '/Users/spyretta/Projects/Demo_ASR/Demonstrator/train/Segments/three/aari_3_3.mfc', '/Users/spyretta/Projects/Demo_ASR/Demonstrator/train/Segments/three/tats_3_1.mfc', '/Users/spyretta/Projects/Demo_ASR/Demonstrator/train/Segments/three/elja_3_3.mfc', '/Users/spyretta/Projects/Demo_ASR/Demonstrator/train/Segments/three/lian_3_3.wav', '/Users/spyretta/Projects/Demo_ASR/Demonstrator/train/Segments/three/gaof_3_1.mfc', '/Users/spyretta/Projects/Demo_ASR/Demonstrator/train/Segments/three/lian_3_2.wav', '/Users/spyretta/Projects/Demo_ASR/Demonstrator/train/Segments/three/elja_3_2.mfc', '/Users/spyretta/Projects/Demo_ASR/Demonstrator/train/Segments/three/gaof_3_3.mfc', '/Users/spyretta/Projects/Demo_ASR/Demonstrator/train/Segments/three/gaof_3_2.mfc', '/Users/spyretta/Projects/Demo_ASR/Demonstrator/train/Segments/three/lian_3_1.wav', '/Users/spyretta/Projects/Demo_ASR/Demonstrator/train/Segments/three/elja_3_1.mfc', '/Users/spyretta/Projects/Demo_ASR/Demonstrator/train/Segments/three/tess_3_3.mfc', '/Users/spyretta/Projects/Demo_ASR/Demonstrator/train/Segments/three/ilse_3_3.mfc', '/Users/spyretta/Projects/Demo_ASR/Demonstrator/train/Segments/three/tats_3_2.wav', '/Users/spyretta/Projects/Demo_ASR/Demonstrator/train/Segments/three/tats_3_3.wav', '/Users/spyretta/Projects/Demo_ASR/Demonstrator/train/Segments/three/aari_3_1.wav', '/Users/spyretta/Projects/Demo_ASR/Demonstrator/train/Segments/three/ilse_3_2.mfc', '/Users/spyretta/Projects/Demo_ASR/Demonstrator/train/Segments/three/tess_3_2.mfc', '/Users/spyretta/Projects/Demo_ASR/Demonstrator/train/Segments/three/aari_3_3.wav', '/Users/spyretta/Projects/Demo_ASR/Demonstrator/train/Segments/three/tats_3_1.wav', '/Users/spyretta/Projects/Demo_ASR/Demonstrator/train/Segments/three/aari_3_2.wav', '/Users/spyretta/Projects/Demo_ASR/Demonstrator/train/Segments/three/ilse_3_1.mfc', '/Users/spyretta/Projects/Demo_ASR/Demonstrator/train/Segments/three/tess_3_1.mfc', '/Users/spyretta/Projects/Demo_ASR/Demonstrator/train/Segments/three/jana_3_1.wav', '/Users/spyretta/Projects/Demo_ASR/Demonstrator/train/Segments/three/jana_3_3.wav', '/Users/spyretta/Projects/Demo_ASR/Demonstrator/train/Segments/three/jana_3_2.wav', '/Users/spyretta/Projects/Demo_ASR/Demonstrator/train/Segments/three/benj_3_2.mfc', '/Users/spyretta/Projects/Demo_ASR/Demonstrator/train/Segments/three/sjor_3_1.mfc', '/Users/spyretta/Projects/Demo_ASR/Demonstrator/train/Segments/three/sara_3_3.mfc', '/Users/spyretta/Projects/Demo_ASR/Demonstrator/train/Segments/three/jan_3_1.mfc', '/Users/spyretta/Projects/Demo_ASR/Demonstrator/train/Segments/three/sara_3_2.mfc', '/Users/spyretta/Projects/Demo_ASR/Demonstrator/train/Segments/three/guan_3_1.wav', '/Users/spyretta/Projects/Demo_ASR/Demonstrator/train/Segments/three/lemi_3_1.mfc', '/Users/spyretta/Projects/Demo_ASR/Demonstrator/train/Segments/three/benj_3_3.mfc', '/Users/spyretta/Projects/Demo_ASR/Demonstrator/train/Segments/three/sjor_3_2.mfc', '/Users/spyretta/Projects/Demo_ASR/Demonstrator/train/Segments/three/benj_3_1.mfc', '/Users/spyretta/Projects/Demo_ASR/Demonstrator/train/Segments/three/lemi_3_3.mfc', '/Users/spyretta/Projects/Demo_ASR/Demonstrator/train/Segments/three/guan_3_3.wav', '/Users/spyretta/Projects/Demo_ASR/Demonstrator/train/Segments/three/jan_3_2.mfc', '/Users/spyretta/Projects/Demo_ASR/Demonstrator/train/Segments/three/jan_3_3.mfc', '/Users/spyretta/Projects/Demo_ASR/Demonstrator/train/Segments/three/sara_3_1.mfc', '/Users/spyretta/Projects/Demo_ASR/Demonstrator/train/Segments/three/guan_3_2.wav', '/Users/spyretta/Projects/Demo_ASR/Demonstrator/train/Segments/three/lemi_3_2.mfc', '/Users/spyretta/Projects/Demo_ASR/Demonstrator/train/Segments/three/sjor_3_3.mfc', '/Users/spyretta/Projects/Demo_ASR/Demonstrator/train/Segments/one/jana_1_3.mfc', '/Users/spyretta/Projects/Demo_ASR/Demonstrator/train/Segments/one/jana_1_2.mfc', '/Users/spyretta/Projects/Demo_ASR/Demonstrator/train/Segments/one/jana_1_1.mfc', '/Users/spyretta/Projects/Demo_ASR/Demonstrator/train/Segments/one/jan_1_2.wav', '/Users/spyretta/Projects/Demo_ASR/Demonstrator/train/Segments/one/guan_1_3.mfc', '/Users/spyretta/Projects/Demo_ASR/Demonstrator/train/Segments/one/lemi_1_3.wav', '/Users/spyretta/Projects/Demo_ASR/Demonstrator/train/Segments/one/benj_1_1.wav', '/Users/spyretta/Projects/Demo_ASR/Demonstrator/train/Segments/one/sjor_1_2.wav', '/Users/spyretta/Projects/Demo_ASR/Demonstrator/train/Segments/one/sjor_1_3.wav', '/Users/spyretta/Projects/Demo_ASR/Demonstrator/train/Segments/one/lemi_1_2.wav', '/Users/spyretta/Projects/Demo_ASR/Demonstrator/train/Segments/one/guan_1_2.mfc', '/Users/spyretta/Projects/Demo_ASR/Demonstrator/train/Segments/one/sara_1_1.wav', '/Users/spyretta/Projects/Demo_ASR/Demonstrator/train/Segments/one/jan_1_3.wav', '/Users/spyretta/Projects/Demo_ASR/Demonstrator/train/Segments/one/jan_1_1.wav', '/Users/spyretta/Projects/Demo_ASR/Demonstrator/train/Segments/one/sara_1_3.wav', '/Users/spyretta/Projects/Demo_ASR/Demonstrator/train/Segments/one/sjor_1_1.wav', '/Users/spyretta/Projects/Demo_ASR/Demonstrator/train/Segments/one/benj_1_2.wav', '/Users/spyretta/Projects/Demo_ASR/Demonstrator/train/Segments/one/benj_1_3.wav', '/Users/spyretta/Projects/Demo_ASR/Demonstrator/train/Segments/one/lemi_1_1.wav', '/Users/spyretta/Projects/Demo_ASR/Demonstrator/train/Segments/one/guan_1_1.mfc', '/Users/spyretta/Projects/Demo_ASR/Demonstrator/train/Segments/one/sara_1_2.wav', '/Users/spyretta/Projects/Demo_ASR/Demonstrator/train/Segments/one/gaof_1_3.wav', '/Users/spyretta/Projects/Demo_ASR/Demonstrator/train/Segments/one/elja_1_1.wav', '/Users/spyretta/Projects/Demo_ASR/Demonstrator/train/Segments/one/lian_1_1.mfc', '/Users/spyretta/Projects/Demo_ASR/Demonstrator/train/Segments/one/gaof_1_2.wav', '/Users/spyretta/Projects/Demo_ASR/Demonstrator/train/Segments/one/lian_1_3.mfc', '/Users/spyretta/Projects/Demo_ASR/Demonstrator/train/Segments/one/elja_1_3.wav', '/Users/spyretta/Projects/Demo_ASR/Demonstrator/train/Segments/one/elja_1_2.wav', '/Users/spyretta/Projects/Demo_ASR/Demonstrator/train/Segments/one/lian_1_2.mfc', '/Users/spyretta/Projects/Demo_ASR/Demonstrator/train/Segments/one/gaof_1_1.wav', '/Users/spyretta/Projects/Demo_ASR/Demonstrator/train/Segments/one/tats_1_1.mfc', '/Users/spyretta/Projects/Demo_ASR/Demonstrator/train/Segments/one/aari_1_3.mfc', '/Users/spyretta/Projects/Demo_ASR/Demonstrator/train/Segments/one/tess_1_1.wav', '/Users/spyretta/Projects/Demo_ASR/Demonstrator/train/Segments/one/ilse_1_1.wav', '/Users/spyretta/Projects/Demo_ASR/Demonstrator/train/Segments/one/aari_1_2.mfc', '/Users/spyretta/Projects/Demo_ASR/Demonstrator/train/Segments/one/tats_1_2.mfc', '/Users/spyretta/Projects/Demo_ASR/Demonstrator/train/Segments/one/ilse_1_3.wav', '/Users/spyretta/Projects/Demo_ASR/Demonstrator/train/Segments/one/tess_1_3.wav', '/Users/spyretta/Projects/Demo_ASR/Demonstrator/train/Segments/one/tess_1_2.wav', '/Users/spyretta/Projects/Demo_ASR/Demonstrator/train/Segments/one/ilse_1_2.wav', '/Users/spyretta/Projects/Demo_ASR/Demonstrator/train/Segments/one/aari_1_1.mfc', '/Users/spyretta/Projects/Demo_ASR/Demonstrator/train/Segments/one/tats_1_3.mfc', '/Users/spyretta/Projects/Demo_ASR/Demonstrator/train/Segments/one/elja_1_1.mfc', '/Users/spyretta/Projects/Demo_ASR/Demonstrator/train/Segments/one/lian_1_1.wav', '/Users/spyretta/Projects/Demo_ASR/Demonstrator/train/Segments/one/gaof_1_2.mfc', '/Users/spyretta/Projects/Demo_ASR/Demonstrator/train/Segments/one/gaof_1_3.mfc', '/Users/spyretta/Projects/Demo_ASR/Demonstrator/train/Segments/one/elja_1_2.mfc', '/Users/spyretta/Projects/Demo_ASR/Demonstrator/train/Segments/one/lian_1_2.wav', '/Users/spyretta/Projects/Demo_ASR/Demonstrator/train/Segments/one/gaof_1_1.mfc', '/Users/spyretta/Projects/Demo_ASR/Demonstrator/train/Segments/one/lian_1_3.wav', '/Users/spyretta/Projects/Demo_ASR/Demonstrator/train/Segments/one/elja_1_3.mfc', '/Users/spyretta/Projects/Demo_ASR/Demonstrator/train/Segments/one/tess_1_1.mfc', '/Users/spyretta/Projects/Demo_ASR/Demonstrator/train/Segments/one/ilse_1_1.mfc', '/Users/spyretta/Projects/Demo_ASR/Demonstrator/train/Segments/one/aari_1_2.wav', '/Users/spyretta/Projects/Demo_ASR/Demonstrator/train/Segments/one/tats_1_1.wav', '/Users/spyretta/Projects/Demo_ASR/Demonstrator/train/Segments/one/aari_1_3.wav', '/Users/spyretta/Projects/Demo_ASR/Demonstrator/train/Segments/one/tess_1_2.mfc', '/Users/spyretta/Projects/Demo_ASR/Demonstrator/train/Segments/one/ilse_1_2.mfc', '/Users/spyretta/Projects/Demo_ASR/Demonstrator/train/Segments/one/aari_1_1.wav', '/Users/spyretta/Projects/Demo_ASR/Demonstrator/train/Segments/one/tats_1_3.wav', '/Users/spyretta/Projects/Demo_ASR/Demonstrator/train/Segments/one/tats_1_2.wav', '/Users/spyretta/Projects/Demo_ASR/Demonstrator/train/Segments/one/ilse_1_3.mfc', '/Users/spyretta/Projects/Demo_ASR/Demonstrator/train/Segments/one/tess_1_3.mfc', '/Users/spyretta/Projects/Demo_ASR/Demonstrator/train/Segments/one/jana_1_2.wav', '/Users/spyretta/Projects/Demo_ASR/Demonstrator/train/Segments/one/jana_1_3.wav', '/Users/spyretta/Projects/Demo_ASR/Demonstrator/train/Segments/one/jana_1_1.wav', '/Users/spyretta/Projects/Demo_ASR/Demonstrator/train/Segments/one/lemi_1_2.mfc', '/Users/spyretta/Projects/Demo_ASR/Demonstrator/train/Segments/one/guan_1_2.wav', '/Users/spyretta/Projects/Demo_ASR/Demonstrator/train/Segments/one/sjor_1_3.mfc', '/Users/spyretta/Projects/Demo_ASR/Demonstrator/train/Segments/one/jan_1_3.mfc', '/Users/spyretta/Projects/Demo_ASR/Demonstrator/train/Segments/one/sara_1_1.mfc', '/Users/spyretta/Projects/Demo_ASR/Demonstrator/train/Segments/one/jan_1_2.mfc', '/Users/spyretta/Projects/Demo_ASR/Demonstrator/train/Segments/one/sjor_1_2.mfc', '/Users/spyretta/Projects/Demo_ASR/Demonstrator/train/Segments/one/benj_1_1.mfc', '/Users/spyretta/Projects/Demo_ASR/Demonstrator/train/Segments/one/guan_1_3.wav', '/Users/spyretta/Projects/Demo_ASR/Demonstrator/train/Segments/one/lemi_1_3.mfc', '/Users/spyretta/Projects/Demo_ASR/Demonstrator/train/Segments/one/lemi_1_1.mfc', '/Users/spyretta/Projects/Demo_ASR/Demonstrator/train/Segments/one/guan_1_1.wav', '/Users/spyretta/Projects/Demo_ASR/Demonstrator/train/Segments/one/benj_1_3.mfc', '/Users/spyretta/Projects/Demo_ASR/Demonstrator/train/Segments/one/sara_1_2.mfc', '/Users/spyretta/Projects/Demo_ASR/Demonstrator/train/Segments/one/sara_1_3.mfc', '/Users/spyretta/Projects/Demo_ASR/Demonstrator/train/Segments/one/jan_1_1.mfc', '/Users/spyretta/Projects/Demo_ASR/Demonstrator/train/Segments/one/benj_1_2.mfc', '/Users/spyretta/Projects/Demo_ASR/Demonstrator/train/Segments/one/sjor_1_1.mfc', '/Users/spyretta/Projects/Demo_ASR/Demonstrator/train/Segments/zero/elja_0_3.wav', '/Users/spyretta/Projects/Demo_ASR/Demonstrator/train/Segments/zero/lian_0_3.mfc', '/Users/spyretta/Projects/Demo_ASR/Demonstrator/train/Segments/zero/lian_0_2.mfc', '/Users/spyretta/Projects/Demo_ASR/Demonstrator/train/Segments/zero/gaof_0_1.wav', '/Users/spyretta/Projects/Demo_ASR/Demonstrator/train/Segments/zero/elja_0_2.wav', '/Users/spyretta/Projects/Demo_ASR/Demonstrator/train/Segments/zero/gaof_0_3.wav', '/Users/spyretta/Projects/Demo_ASR/Demonstrator/train/Segments/zero/lian_0_1.mfc', '/Users/spyretta/Projects/Demo_ASR/Demonstrator/train/Segments/zero/gaof_0_2.wav', '/Users/spyretta/Projects/Demo_ASR/Demonstrator/train/Segments/zero/elja_0_1.wav', '/Users/spyretta/Projects/Demo_ASR/Demonstrator/train/Segments/zero/ilse_0_3.wav', '/Users/spyretta/Projects/Demo_ASR/Demonstrator/train/Segments/zero/tess_0_3.wav', '/Users/spyretta/Projects/Demo_ASR/Demonstrator/train/Segments/zero/tats_0_2.mfc', '/Users/spyretta/Projects/Demo_ASR/Demonstrator/train/Segments/zero/aari_0_1.mfc', '/Users/spyretta/Projects/Demo_ASR/Demonstrator/train/Segments/zero/tats_0_3.mfc', '/Users/spyretta/Projects/Demo_ASR/Demonstrator/train/Segments/zero/tess_0_2.wav', '/Users/spyretta/Projects/Demo_ASR/Demonstrator/train/Segments/zero/ilse_0_2.wav', '/Users/spyretta/Projects/Demo_ASR/Demonstrator/train/Segments/zero/tats_0_1.mfc', '/Users/spyretta/Projects/Demo_ASR/Demonstrator/train/Segments/zero/aari_0_3.mfc', '/Users/spyretta/Projects/Demo_ASR/Demonstrator/train/Segments/zero/aari_0_2.mfc', '/Users/spyretta/Projects/Demo_ASR/Demonstrator/train/Segments/zero/tess_0_1.wav', '/Users/spyretta/Projects/Demo_ASR/Demonstrator/train/Segments/zero/ilse_0_1.wav', '/Users/spyretta/Projects/Demo_ASR/Demonstrator/train/Segments/zero/jana_0_1.mfc', '/Users/spyretta/Projects/Demo_ASR/Demonstrator/train/Segments/zero/jana_0_3.mfc', '/Users/spyretta/Projects/Demo_ASR/Demonstrator/train/Segments/zero/jana_0_2.mfc', '/Users/spyretta/Projects/Demo_ASR/Demonstrator/train/Segments/zero/benj_0_2.wav', '/Users/spyretta/Projects/Demo_ASR/Demonstrator/train/Segments/zero/sjor_0_1.wav', '/Users/spyretta/Projects/Demo_ASR/Demonstrator/train/Segments/zero/sara_0_3.wav', '/Users/spyretta/Projects/Demo_ASR/Demonstrator/train/Segments/zero/jan_0_1.wav', '/Users/spyretta/Projects/Demo_ASR/Demonstrator/train/Segments/zero/sara_0_2.wav', '/Users/spyretta/Projects/Demo_ASR/Demonstrator/train/Segments/zero/lemi_0_1.wav', '/Users/spyretta/Projects/Demo_ASR/Demonstrator/train/Segments/zero/guan_0_1.mfc', '/Users/spyretta/Projects/Demo_ASR/Demonstrator/train/Segments/zero/benj_0_3.wav', '/Users/spyretta/Projects/Demo_ASR/Demonstrator/train/Segments/zero/sjor_0_2.wav', '/Users/spyretta/Projects/Demo_ASR/Demonstrator/train/Segments/zero/benj_0_1.wav', '/Users/spyretta/Projects/Demo_ASR/Demonstrator/train/Segments/zero/guan_0_3.mfc', '/Users/spyretta/Projects/Demo_ASR/Demonstrator/train/Segments/zero/lemi_0_3.wav', '/Users/spyretta/Projects/Demo_ASR/Demonstrator/train/Segments/zero/jan_0_2.wav', '/Users/spyretta/Projects/Demo_ASR/Demonstrator/train/Segments/zero/jan_0_3.wav', '/Users/spyretta/Projects/Demo_ASR/Demonstrator/train/Segments/zero/sara_0_1.wav', '/Users/spyretta/Projects/Demo_ASR/Demonstrator/train/Segments/zero/lemi_0_2.wav', '/Users/spyretta/Projects/Demo_ASR/Demonstrator/train/Segments/zero/guan_0_2.mfc', '/Users/spyretta/Projects/Demo_ASR/Demonstrator/train/Segments/zero/sjor_0_3.wav', '/Users/spyretta/Projects/Demo_ASR/Demonstrator/train/Segments/zero/jana_0_1.wav', '/Users/spyretta/Projects/Demo_ASR/Demonstrator/train/Segments/zero/jana_0_2.wav', '/Users/spyretta/Projects/Demo_ASR/Demonstrator/train/Segments/zero/jana_0_3.wav', '/Users/spyretta/Projects/Demo_ASR/Demonstrator/train/Segments/zero/sara_0_2.mfc', '/Users/spyretta/Projects/Demo_ASR/Demonstrator/train/Segments/zero/benj_0_3.mfc', '/Users/spyretta/Projects/Demo_ASR/Demonstrator/train/Segments/zero/lemi_0_1.mfc', '/Users/spyretta/Projects/Demo_ASR/Demonstrator/train/Segments/zero/guan_0_1.wav', '/Users/spyretta/Projects/Demo_ASR/Demonstrator/train/Segments/zero/sjor_0_1.mfc', '/Users/spyretta/Projects/Demo_ASR/Demonstrator/train/Segments/zero/benj_0_2.mfc', '/Users/spyretta/Projects/Demo_ASR/Demonstrator/train/Segments/zero/jan_0_1.mfc', '/Users/spyretta/Projects/Demo_ASR/Demonstrator/train/Segments/zero/sara_0_3.mfc', '/Users/spyretta/Projects/Demo_ASR/Demonstrator/train/Segments/zero/sara_0_1.mfc', '/Users/spyretta/Projects/Demo_ASR/Demonstrator/train/Segments/zero/jan_0_3.mfc', '/Users/spyretta/Projects/Demo_ASR/Demonstrator/train/Segments/zero/sjor_0_3.mfc', '/Users/spyretta/Projects/Demo_ASR/Demonstrator/train/Segments/zero/lemi_0_2.mfc', '/Users/spyretta/Projects/Demo_ASR/Demonstrator/train/Segments/zero/guan_0_2.wav', '/Users/spyretta/Projects/Demo_ASR/Demonstrator/train/Segments/zero/guan_0_3.wav', '/Users/spyretta/Projects/Demo_ASR/Demonstrator/train/Segments/zero/lemi_0_3.mfc', '/Users/spyretta/Projects/Demo_ASR/Demonstrator/train/Segments/zero/benj_0_1.mfc', '/Users/spyretta/Projects/Demo_ASR/Demonstrator/train/Segments/zero/sjor_0_2.mfc', '/Users/spyretta/Projects/Demo_ASR/Demonstrator/train/Segments/zero/jan_0_2.mfc', '/Users/spyretta/Projects/Demo_ASR/Demonstrator/train/Segments/zero/lian_0_2.wav', '/Users/spyretta/Projects/Demo_ASR/Demonstrator/train/Segments/zero/gaof_0_1.mfc', '/Users/spyretta/Projects/Demo_ASR/Demonstrator/train/Segments/zero/elja_0_2.mfc', '/Users/spyretta/Projects/Demo_ASR/Demonstrator/train/Segments/zero/elja_0_3.mfc', '/Users/spyretta/Projects/Demo_ASR/Demonstrator/train/Segments/zero/lian_0_3.wav', '/Users/spyretta/Projects/Demo_ASR/Demonstrator/train/Segments/zero/lian_0_1.wav', '/Users/spyretta/Projects/Demo_ASR/Demonstrator/train/Segments/zero/gaof_0_2.mfc', '/Users/spyretta/Projects/Demo_ASR/Demonstrator/train/Segments/zero/elja_0_1.mfc', '/Users/spyretta/Projects/Demo_ASR/Demonstrator/train/Segments/zero/gaof_0_3.mfc', '/Users/spyretta/Projects/Demo_ASR/Demonstrator/train/Segments/zero/aari_0_1.wav', '/Users/spyretta/Projects/Demo_ASR/Demonstrator/train/Segments/zero/tats_0_3.wav', '/Users/spyretta/Projects/Demo_ASR/Demonstrator/train/Segments/zero/tess_0_2.mfc', '/Users/spyretta/Projects/Demo_ASR/Demonstrator/train/Segments/zero/ilse_0_2.mfc', '/Users/spyretta/Projects/Demo_ASR/Demonstrator/train/Segments/zero/ilse_0_3.mfc', '/Users/spyretta/Projects/Demo_ASR/Demonstrator/train/Segments/zero/tess_0_3.mfc', '/Users/spyretta/Projects/Demo_ASR/Demonstrator/train/Segments/zero/tats_0_2.wav', '/Users/spyretta/Projects/Demo_ASR/Demonstrator/train/Segments/zero/aari_0_2.wav', '/Users/spyretta/Projects/Demo_ASR/Demonstrator/train/Segments/zero/tess_0_1.mfc', '/Users/spyretta/Projects/Demo_ASR/Demonstrator/train/Segments/zero/ilse_0_1.mfc', '/Users/spyretta/Projects/Demo_ASR/Demonstrator/train/Segments/zero/tats_0_1.wav', '/Users/spyretta/Projects/Demo_ASR/Demonstrator/train/Segments/zero/aari_0_3.wav', '/Users/spyretta/Projects/Demo_ASR/Demonstrator/train/Segments/seven/benj_7_1.wav', '/Users/spyretta/Projects/Demo_ASR/Demonstrator/train/Segments/seven/sjor_7_2.wav', '/Users/spyretta/Projects/Demo_ASR/Demonstrator/train/Segments/seven/guan_7_3.mfc', '/Users/spyretta/Projects/Demo_ASR/Demonstrator/train/Segments/seven/lemi_7_3.wav', '/Users/spyretta/Projects/Demo_ASR/Demonstrator/train/Segments/seven/jan_7_2.wav', '/Users/spyretta/Projects/Demo_ASR/Demonstrator/train/Segments/seven/sara_7_1.wav', '/Users/spyretta/Projects/Demo_ASR/Demonstrator/train/Segments/seven/jan_7_3.wav', '/Users/spyretta/Projects/Demo_ASR/Demonstrator/train/Segments/seven/lemi_7_2.wav', '/Users/spyretta/Projects/Demo_ASR/Demonstrator/train/Segments/seven/guan_7_2.mfc', '/Users/spyretta/Projects/Demo_ASR/Demonstrator/train/Segments/seven/sjor_7_3.wav', '/Users/spyretta/Projects/Demo_ASR/Demonstrator/train/Segments/seven/sjor_7_1.wav', '/Users/spyretta/Projects/Demo_ASR/Demonstrator/train/Segments/seven/benj_7_2.wav', '/Users/spyretta/Projects/Demo_ASR/Demonstrator/train/Segments/seven/jan_7_1.wav', '/Users/spyretta/Projects/Demo_ASR/Demonstrator/train/Segments/seven/sara_7_3.wav', '/Users/spyretta/Projects/Demo_ASR/Demonstrator/train/Segments/seven/sara_7_2.wav', '/Users/spyretta/Projects/Demo_ASR/Demonstrator/train/Segments/seven/lemi_7_1.wav', '/Users/spyretta/Projects/Demo_ASR/Demonstrator/train/Segments/seven/guan_7_1.mfc', '/Users/spyretta/Projects/Demo_ASR/Demonstrator/train/Segments/seven/benj_7_3.wav', '/Users/spyretta/Projects/Demo_ASR/Demonstrator/train/Segments/seven/jana_7_3.mfc', '/Users/spyretta/Projects/Demo_ASR/Demonstrator/train/Segments/seven/jana_7_2.mfc', '/Users/spyretta/Projects/Demo_ASR/Demonstrator/train/Segments/seven/jana_7_1.mfc', '/Users/spyretta/Projects/Demo_ASR/Demonstrator/train/Segments/seven/tats_7_1.mfc', '/Users/spyretta/Projects/Demo_ASR/Demonstrator/train/Segments/seven/aari_7_3.mfc', '/Users/spyretta/Projects/Demo_ASR/Demonstrator/train/Segments/seven/aari_7_2.mfc', '/Users/spyretta/Projects/Demo_ASR/Demonstrator/train/Segments/seven/ilse_7_1.wav', '/Users/spyretta/Projects/Demo_ASR/Demonstrator/train/Segments/seven/tess_7_1.wav', '/Users/spyretta/Projects/Demo_ASR/Demonstrator/train/Segments/seven/tess_7_3.wav', '/Users/spyretta/Projects/Demo_ASR/Demonstrator/train/Segments/seven/ilse_7_3.wav', '/Users/spyretta/Projects/Demo_ASR/Demonstrator/train/Segments/seven/tats_7_2.mfc', '/Users/spyretta/Projects/Demo_ASR/Demonstrator/train/Segments/seven/aari_7_1.mfc', '/Users/spyretta/Projects/Demo_ASR/Demonstrator/train/Segments/seven/tats_7_3.mfc', '/Users/spyretta/Projects/Demo_ASR/Demonstrator/train/Segments/seven/ilse_7_2.wav', '/Users/spyretta/Projects/Demo_ASR/Demonstrator/train/Segments/seven/tess_7_2.wav', '/Users/spyretta/Projects/Demo_ASR/Demonstrator/train/Segments/seven/gaof_7_3.wav', '/Users/spyretta/Projects/Demo_ASR/Demonstrator/train/Segments/seven/lian_7_1.mfc', '/Users/spyretta/Projects/Demo_ASR/Demonstrator/train/Segments/seven/gaof_7_2.wav', '/Users/spyretta/Projects/Demo_ASR/Demonstrator/train/Segments/seven/elja_7_1.wav', '/Users/spyretta/Projects/Demo_ASR/Demonstrator/train/Segments/seven/elja_7_3.wav', '/Users/spyretta/Projects/Demo_ASR/Demonstrator/train/Segments/seven/lian_7_3.mfc', '/Users/spyretta/Projects/Demo_ASR/Demonstrator/train/Segments/seven/lian_7_2.mfc', '/Users/spyretta/Projects/Demo_ASR/Demonstrator/train/Segments/seven/gaof_7_1.wav', '/Users/spyretta/Projects/Demo_ASR/Demonstrator/train/Segments/seven/elja_7_2.wav', '/Users/spyretta/Projects/Demo_ASR/Demonstrator/train/Segments/seven/aari_7_2.wav', '/Users/spyretta/Projects/Demo_ASR/Demonstrator/train/Segments/seven/ilse_7_1.mfc', '/Users/spyretta/Projects/Demo_ASR/Demonstrator/train/Segments/seven/tess_7_1.mfc', '/Users/spyretta/Projects/Demo_ASR/Demonstrator/train/Segments/seven/tats_7_1.wav', '/Users/spyretta/Projects/Demo_ASR/Demonstrator/train/Segments/seven/aari_7_3.wav', '/Users/spyretta/Projects/Demo_ASR/Demonstrator/train/Segments/seven/aari_7_1.wav', '/Users/spyretta/Projects/Demo_ASR/Demonstrator/train/Segments/seven/tats_7_3.wav', '/Users/spyretta/Projects/Demo_ASR/Demonstrator/train/Segments/seven/ilse_7_2.mfc', '/Users/spyretta/Projects/Demo_ASR/Demonstrator/train/Segments/seven/tess_7_2.mfc', '/Users/spyretta/Projects/Demo_ASR/Demonstrator/train/Segments/seven/tess_7_3.mfc', '/Users/spyretta/Projects/Demo_ASR/Demonstrator/train/Segments/seven/ilse_7_3.mfc', '/Users/spyretta/Projects/Demo_ASR/Demonstrator/train/Segments/seven/tats_7_2.wav', '/Users/spyretta/Projects/Demo_ASR/Demonstrator/train/Segments/seven/lian_7_1.wav', '/Users/spyretta/Projects/Demo_ASR/Demonstrator/train/Segments/seven/gaof_7_2.mfc', '/Users/spyretta/Projects/Demo_ASR/Demonstrator/train/Segments/seven/elja_7_1.mfc', '/Users/spyretta/Projects/Demo_ASR/Demonstrator/train/Segments/seven/gaof_7_3.mfc', '/Users/spyretta/Projects/Demo_ASR/Demonstrator/train/Segments/seven/lian_7_2.wav', '/Users/spyretta/Projects/Demo_ASR/Demonstrator/train/Segments/seven/gaof_7_1.mfc', '/Users/spyretta/Projects/Demo_ASR/Demonstrator/train/Segments/seven/elja_7_2.mfc', '/Users/spyretta/Projects/Demo_ASR/Demonstrator/train/Segments/seven/elja_7_3.mfc', '/Users/spyretta/Projects/Demo_ASR/Demonstrator/train/Segments/seven/lian_7_3.wav', '/Users/spyretta/Projects/Demo_ASR/Demonstrator/train/Segments/seven/jan_7_3.mfc', '/Users/spyretta/Projects/Demo_ASR/Demonstrator/train/Segments/seven/sara_7_1.mfc', '/Users/spyretta/Projects/Demo_ASR/Demonstrator/train/Segments/seven/sjor_7_3.mfc', '/Users/spyretta/Projects/Demo_ASR/Demonstrator/train/Segments/seven/lemi_7_2.mfc', '/Users/spyretta/Projects/Demo_ASR/Demonstrator/train/Segments/seven/guan_7_2.wav', '/Users/spyretta/Projects/Demo_ASR/Demonstrator/train/Segments/seven/guan_7_3.wav', '/Users/spyretta/Projects/Demo_ASR/Demonstrator/train/Segments/seven/lemi_7_3.mfc', '/Users/spyretta/Projects/Demo_ASR/Demonstrator/train/Segments/seven/sjor_7_2.mfc', '/Users/spyretta/Projects/Demo_ASR/Demonstrator/train/Segments/seven/benj_7_1.mfc', '/Users/spyretta/Projects/Demo_ASR/Demonstrator/train/Segments/seven/jan_7_2.mfc', '/Users/spyretta/Projects/Demo_ASR/Demonstrator/train/Segments/seven/sara_7_2.mfc', '/Users/spyretta/Projects/Demo_ASR/Demonstrator/train/Segments/seven/benj_7_3.mfc', '/Users/spyretta/Projects/Demo_ASR/Demonstrator/train/Segments/seven/lemi_7_1.mfc', '/Users/spyretta/Projects/Demo_ASR/Demonstrator/train/Segments/seven/guan_7_1.wav', '/Users/spyretta/Projects/Demo_ASR/Demonstrator/train/Segments/seven/benj_7_2.mfc', '/Users/spyretta/Projects/Demo_ASR/Demonstrator/train/Segments/seven/sjor_7_1.mfc', '/Users/spyretta/Projects/Demo_ASR/Demonstrator/train/Segments/seven/sara_7_3.mfc', '/Users/spyretta/Projects/Demo_ASR/Demonstrator/train/Segments/seven/jan_7_1.mfc', '/Users/spyretta/Projects/Demo_ASR/Demonstrator/train/Segments/seven/jana_7_2.wav', '/Users/spyretta/Projects/Demo_ASR/Demonstrator/train/Segments/seven/jana_7_3.wav', '/Users/spyretta/Projects/Demo_ASR/Demonstrator/train/Segments/seven/jana_7_1.wav', '/Users/spyretta/Projects/Demo_ASR/Demonstrator/train/Segments/two/elja_2_1.wav', '/Users/spyretta/Projects/Demo_ASR/Demonstrator/train/Segments/two/gaof_2_2.wav', '/Users/spyretta/Projects/Demo_ASR/Demonstrator/train/Segments/two/lian_2_1.mfc', '/Users/spyretta/Projects/Demo_ASR/Demonstrator/train/Segments/two/gaof_2_3.wav', '/Users/spyretta/Projects/Demo_ASR/Demonstrator/train/Segments/two/elja_2_2.wav', '/Users/spyretta/Projects/Demo_ASR/Demonstrator/train/Segments/two/gaof_2_1.wav', '/Users/spyretta/Projects/Demo_ASR/Demonstrator/train/Segments/two/lian_2_2.mfc', '/Users/spyretta/Projects/Demo_ASR/Demonstrator/train/Segments/two/lian_2_3.mfc', '/Users/spyretta/Projects/Demo_ASR/Demonstrator/train/Segments/two/elja_2_3.wav', '/Users/spyretta/Projects/Demo_ASR/Demonstrator/train/Segments/two/ilse_2_1.wav', '/Users/spyretta/Projects/Demo_ASR/Demonstrator/train/Segments/two/tess_2_1.wav', '/Users/spyretta/Projects/Demo_ASR/Demonstrator/train/Segments/two/aari_2_2.mfc', '/Users/spyretta/Projects/Demo_ASR/Demonstrator/train/Segments/two/aari_2_3.mfc', '/Users/spyretta/Projects/Demo_ASR/Demonstrator/train/Segments/two/tats_2_1.mfc', '/Users/spyretta/Projects/Demo_ASR/Demonstrator/train/Segments/two/ilse_2_2.wav', '/Users/spyretta/Projects/Demo_ASR/Demonstrator/train/Segments/two/tess_2_2.wav', '/Users/spyretta/Projects/Demo_ASR/Demonstrator/train/Segments/two/tats_2_3.mfc', '/Users/spyretta/Projects/Demo_ASR/Demonstrator/train/Segments/two/aari_2_1.mfc', '/Users/spyretta/Projects/Demo_ASR/Demonstrator/train/Segments/two/tats_2_2.mfc', '/Users/spyretta/Projects/Demo_ASR/Demonstrator/train/Segments/two/tess_2_3.wav', '/Users/spyretta/Projects/Demo_ASR/Demonstrator/train/Segments/two/ilse_2_3.wav', '/Users/spyretta/Projects/Demo_ASR/Demonstrator/train/Segments/two/jana_2_2.mfc', '/Users/spyretta/Projects/Demo_ASR/Demonstrator/train/Segments/two/jana_2_3.mfc', '/Users/spyretta/Projects/Demo_ASR/Demonstrator/train/Segments/two/jana_2_1.mfc', '/Users/spyretta/Projects/Demo_ASR/Demonstrator/train/Segments/two/guan_2_2.mfc', '/Users/spyretta/Projects/Demo_ASR/Demonstrator/train/Segments/two/lemi_2_2.wav', '/Users/spyretta/Projects/Demo_ASR/Demonstrator/train/Segments/two/sjor_2_3.wav', '/Users/spyretta/Projects/Demo_ASR/Demonstrator/train/Segments/two/jan_2_3.wav', '/Users/spyretta/Projects/Demo_ASR/Demonstrator/train/Segments/two/sara_2_1.wav', '/Users/spyretta/Projects/Demo_ASR/Demonstrator/train/Segments/two/jan_2_2.wav', '/Users/spyretta/Projects/Demo_ASR/Demonstrator/train/Segments/two/sjor_2_2.wav', '/Users/spyretta/Projects/Demo_ASR/Demonstrator/train/Segments/two/benj_2_1.wav', '/Users/spyretta/Projects/Demo_ASR/Demonstrator/train/Segments/two/lemi_2_3.wav', '/Users/spyretta/Projects/Demo_ASR/Demonstrator/train/Segments/two/guan_2_3.mfc', '/Users/spyretta/Projects/Demo_ASR/Demonstrator/train/Segments/two/guan_2_1.mfc', '/Users/spyretta/Projects/Demo_ASR/Demonstrator/train/Segments/two/lemi_2_1.wav', '/Users/spyretta/Projects/Demo_ASR/Demonstrator/train/Segments/two/benj_2_3.wav', '/Users/spyretta/Projects/Demo_ASR/Demonstrator/train/Segments/two/sara_2_2.wav', '/Users/spyretta/Projects/Demo_ASR/Demonstrator/train/Segments/two/sara_2_3.wav', '/Users/spyretta/Projects/Demo_ASR/Demonstrator/train/Segments/two/jan_2_1.wav', '/Users/spyretta/Projects/Demo_ASR/Demonstrator/train/Segments/two/benj_2_2.wav', '/Users/spyretta/Projects/Demo_ASR/Demonstrator/train/Segments/two/sjor_2_1.wav', '/Users/spyretta/Projects/Demo_ASR/Demonstrator/train/Segments/two/jana_2_3.wav', '/Users/spyretta/Projects/Demo_ASR/Demonstrator/train/Segments/two/jana_2_2.wav', '/Users/spyretta/Projects/Demo_ASR/Demonstrator/train/Segments/two/jana_2_1.wav', '/Users/spyretta/Projects/Demo_ASR/Demonstrator/train/Segments/two/jan_2_2.mfc', '/Users/spyretta/Projects/Demo_ASR/Demonstrator/train/Segments/two/lemi_2_3.mfc', '/Users/spyretta/Projects/Demo_ASR/Demonstrator/train/Segments/two/guan_2_3.wav', '/Users/spyretta/Projects/Demo_ASR/Demonstrator/train/Segments/two/benj_2_1.mfc', '/Users/spyretta/Projects/Demo_ASR/Demonstrator/train/Segments/two/sjor_2_2.mfc', '/Users/spyretta/Projects/Demo_ASR/Demonstrator/train/Segments/two/sjor_2_3.mfc', '/Users/spyretta/Projects/Demo_ASR/Demonstrator/train/Segments/two/guan_2_2.wav', '/Users/spyretta/Projects/Demo_ASR/Demonstrator/train/Segments/two/lemi_2_2.mfc', '/Users/spyretta/Projects/Demo_ASR/Demonstrator/train/Segments/two/sara_2_1.mfc', '/Users/spyretta/Projects/Demo_ASR/Demonstrator/train/Segments/two/jan_2_3.mfc', '/Users/spyretta/Projects/Demo_ASR/Demonstrator/train/Segments/two/jan_2_1.mfc', '/Users/spyretta/Projects/Demo_ASR/Demonstrator/train/Segments/two/sara_2_3.mfc', '/Users/spyretta/Projects/Demo_ASR/Demonstrator/train/Segments/two/sjor_2_1.mfc', '/Users/spyretta/Projects/Demo_ASR/Demonstrator/train/Segments/two/benj_2_2.mfc', '/Users/spyretta/Projects/Demo_ASR/Demonstrator/train/Segments/two/benj_2_3.mfc', '/Users/spyretta/Projects/Demo_ASR/Demonstrator/train/Segments/two/guan_2_1.wav', '/Users/spyretta/Projects/Demo_ASR/Demonstrator/train/Segments/two/lemi_2_1.mfc', '/Users/spyretta/Projects/Demo_ASR/Demonstrator/train/Segments/two/sara_2_2.mfc', '/Users/spyretta/Projects/Demo_ASR/Demonstrator/train/Segments/two/gaof_2_3.mfc', '/Users/spyretta/Projects/Demo_ASR/Demonstrator/train/Segments/two/elja_2_1.mfc', '/Users/spyretta/Projects/Demo_ASR/Demonstrator/train/Segments/two/gaof_2_2.mfc', '/Users/spyretta/Projects/Demo_ASR/Demonstrator/train/Segments/two/lian_2_1.wav', '/Users/spyretta/Projects/Demo_ASR/Demonstrator/train/Segments/two/lian_2_3.wav', '/Users/spyretta/Projects/Demo_ASR/Demonstrator/train/Segments/two/elja_2_3.mfc', '/Users/spyretta/Projects/Demo_ASR/Demonstrator/train/Segments/two/elja_2_2.mfc', '/Users/spyretta/Projects/Demo_ASR/Demonstrator/train/Segments/two/gaof_2_1.mfc', '/Users/spyretta/Projects/Demo_ASR/Demonstrator/train/Segments/two/lian_2_2.wav', '/Users/spyretta/Projects/Demo_ASR/Demonstrator/train/Segments/two/aari_2_3.wav', '/Users/spyretta/Projects/Demo_ASR/Demonstrator/train/Segments/two/tats_2_1.wav', '/Users/spyretta/Projects/Demo_ASR/Demonstrator/train/Segments/two/ilse_2_1.mfc', '/Users/spyretta/Projects/Demo_ASR/Demonstrator/train/Segments/two/tess_2_1.mfc', '/Users/spyretta/Projects/Demo_ASR/Demonstrator/train/Segments/two/aari_2_2.wav', '/Users/spyretta/Projects/Demo_ASR/Demonstrator/train/Segments/two/tats_2_2.wav', '/Users/spyretta/Projects/Demo_ASR/Demonstrator/train/Segments/two/tess_2_3.mfc', '/Users/spyretta/Projects/Demo_ASR/Demonstrator/train/Segments/two/ilse_2_3.mfc', '/Users/spyretta/Projects/Demo_ASR/Demonstrator/train/Segments/two/ilse_2_2.mfc', '/Users/spyretta/Projects/Demo_ASR/Demonstrator/train/Segments/two/tess_2_2.mfc', '/Users/spyretta/Projects/Demo_ASR/Demonstrator/train/Segments/two/tats_2_3.wav', '/Users/spyretta/Projects/Demo_ASR/Demonstrator/train/Segments/two/aari_2_1.wav', '/Users/spyretta/Projects/Demo_ASR/Demonstrator/train/Segments/six/tats_6_2.mfc', '/Users/spyretta/Projects/Demo_ASR/Demonstrator/train/Segments/six/tess_6_3.wav', '/Users/spyretta/Projects/Demo_ASR/Demonstrator/train/Segments/six/ilse_6_3.wav', '/Users/spyretta/Projects/Demo_ASR/Demonstrator/train/Segments/six/ilse_6_2.wav', '/Users/spyretta/Projects/Demo_ASR/Demonstrator/train/Segments/six/tess_6_2.wav', '/Users/spyretta/Projects/Demo_ASR/Demonstrator/train/Segments/six/aari_6_1.mfc', '/Users/spyretta/Projects/Demo_ASR/Demonstrator/train/Segments/six/tats_6_3.mfc', '/Users/spyretta/Projects/Demo_ASR/Demonstrator/train/Segments/six/tats_6_1.mfc', '/Users/spyretta/Projects/Demo_ASR/Demonstrator/train/Segments/six/aari_6_3.mfc', '/Users/spyretta/Projects/Demo_ASR/Demonstrator/train/Segments/six/ilse_6_1.wav', '/Users/spyretta/Projects/Demo_ASR/Demonstrator/train/Segments/six/tess_6_1.wav', '/Users/spyretta/Projects/Demo_ASR/Demonstrator/train/Segments/six/aari_6_2.mfc', '/Users/spyretta/Projects/Demo_ASR/Demonstrator/train/Segments/six/lian_6_3.mfc', '/Users/spyretta/Projects/Demo_ASR/Demonstrator/train/Segments/six/elja_6_3.wav', '/Users/spyretta/Projects/Demo_ASR/Demonstrator/train/Segments/six/elja_6_2.wav', '/Users/spyretta/Projects/Demo_ASR/Demonstrator/train/Segments/six/lian_6_2.mfc', '/Users/spyretta/Projects/Demo_ASR/Demonstrator/train/Segments/six/gaof_6_1.wav', '/Users/spyretta/Projects/Demo_ASR/Demonstrator/train/Segments/six/gaof_6_3.wav', '/Users/spyretta/Projects/Demo_ASR/Demonstrator/train/Segments/six/elja_6_1.wav', '/Users/spyretta/Projects/Demo_ASR/Demonstrator/train/Segments/six/lian_6_1.mfc', '/Users/spyretta/Projects/Demo_ASR/Demonstrator/train/Segments/six/gaof_6_2.wav', '/Users/spyretta/Projects/Demo_ASR/Demonstrator/train/Segments/six/sara_6_3.wav', '/Users/spyretta/Projects/Demo_ASR/Demonstrator/train/Segments/six/jan_6_1.wav', '/Users/spyretta/Projects/Demo_ASR/Demonstrator/train/Segments/six/benj_6_2.wav', '/Users/spyretta/Projects/Demo_ASR/Demonstrator/train/Segments/six/sjor_6_1.wav', '/Users/spyretta/Projects/Demo_ASR/Demonstrator/train/Segments/six/benj_6_3.wav', '/Users/spyretta/Projects/Demo_ASR/Demonstrator/train/Segments/six/lemi_6_1.wav', '/Users/spyretta/Projects/Demo_ASR/Demonstrator/train/Segments/six/guan_6_1.mfc', '/Users/spyretta/Projects/Demo_ASR/Demonstrator/train/Segments/six/sara_6_2.wav', '/Users/spyretta/Projects/Demo_ASR/Demonstrator/train/Segments/six/jan_6_2.wav', '/Users/spyretta/Projects/Demo_ASR/Demonstrator/train/Segments/six/guan_6_3.mfc', '/Users/spyretta/Projects/Demo_ASR/Demonstrator/train/Segments/six/lemi_6_3.wav', '/Users/spyretta/Projects/Demo_ASR/Demonstrator/train/Segments/six/sjor_6_2.wav', '/Users/spyretta/Projects/Demo_ASR/Demonstrator/train/Segments/six/benj_6_1.wav', '/Users/spyretta/Projects/Demo_ASR/Demonstrator/train/Segments/six/sjor_6_3.wav', '/Users/spyretta/Projects/Demo_ASR/Demonstrator/train/Segments/six/lemi_6_2.wav', '/Users/spyretta/Projects/Demo_ASR/Demonstrator/train/Segments/six/guan_6_2.mfc', '/Users/spyretta/Projects/Demo_ASR/Demonstrator/train/Segments/six/jan_6_3.wav', '/Users/spyretta/Projects/Demo_ASR/Demonstrator/train/Segments/six/sara_6_1.wav', '/Users/spyretta/Projects/Demo_ASR/Demonstrator/train/Segments/six/jana_6_1.mfc', '/Users/spyretta/Projects/Demo_ASR/Demonstrator/train/Segments/six/jana_6_3.mfc', '/Users/spyretta/Projects/Demo_ASR/Demonstrator/train/Segments/six/jana_6_2.mfc', '/Users/spyretta/Projects/Demo_ASR/Demonstrator/train/Segments/six/lemi_6_1.mfc', '/Users/spyretta/Projects/Demo_ASR/Demonstrator/train/Segments/six/guan_6_1.wav', '/Users/spyretta/Projects/Demo_ASR/Demonstrator/train/Segments/six/benj_6_3.mfc', '/Users/spyretta/Projects/Demo_ASR/Demonstrator/train/Segments/six/sara_6_2.mfc', '/Users/spyretta/Projects/Demo_ASR/Demonstrator/train/Segments/six/jan_6_1.mfc', '/Users/spyretta/Projects/Demo_ASR/Demonstrator/train/Segments/six/sara_6_3.mfc', '/Users/spyretta/Projects/Demo_ASR/Demonstrator/train/Segments/six/sjor_6_1.mfc', '/Users/spyretta/Projects/Demo_ASR/Demonstrator/train/Segments/six/benj_6_2.mfc', '/Users/spyretta/Projects/Demo_ASR/Demonstrator/train/Segments/six/lemi_6_2.mfc', '/Users/spyretta/Projects/Demo_ASR/Demonstrator/train/Segments/six/guan_6_2.wav', '/Users/spyretta/Projects/Demo_ASR/Demonstrator/train/Segments/six/sjor_6_3.mfc', '/Users/spyretta/Projects/Demo_ASR/Demonstrator/train/Segments/six/sara_6_1.mfc', '/Users/spyretta/Projects/Demo_ASR/Demonstrator/train/Segments/six/jan_6_3.mfc', '/Users/spyretta/Projects/Demo_ASR/Demonstrator/train/Segments/six/jan_6_2.mfc', '/Users/spyretta/Projects/Demo_ASR/Demonstrator/train/Segments/six/benj_6_1.mfc', '/Users/spyretta/Projects/Demo_ASR/Demonstrator/train/Segments/six/sjor_6_2.mfc', '/Users/spyretta/Projects/Demo_ASR/Demonstrator/train/Segments/six/guan_6_3.wav', '/Users/spyretta/Projects/Demo_ASR/Demonstrator/train/Segments/six/lemi_6_3.mfc', '/Users/spyretta/Projects/Demo_ASR/Demonstrator/train/Segments/six/jana_6_1.wav', '/Users/spyretta/Projects/Demo_ASR/Demonstrator/train/Segments/six/jana_6_2.wav', '/Users/spyretta/Projects/Demo_ASR/Demonstrator/train/Segments/six/jana_6_3.wav', '/Users/spyretta/Projects/Demo_ASR/Demonstrator/train/Segments/six/ilse_6_2.mfc', '/Users/spyretta/Projects/Demo_ASR/Demonstrator/train/Segments/six/tess_6_2.mfc', '/Users/spyretta/Projects/Demo_ASR/Demonstrator/train/Segments/six/aari_6_1.wav', '/Users/spyretta/Projects/Demo_ASR/Demonstrator/train/Segments/six/tats_6_3.wav', '/Users/spyretta/Projects/Demo_ASR/Demonstrator/train/Segments/six/tats_6_2.wav', '/Users/spyretta/Projects/Demo_ASR/Demonstrator/train/Segments/six/tess_6_3.mfc', '/Users/spyretta/Projects/Demo_ASR/Demonstrator/train/Segments/six/ilse_6_3.mfc', '/Users/spyretta/Projects/Demo_ASR/Demonstrator/train/Segments/six/ilse_6_1.mfc', '/Users/spyretta/Projects/Demo_ASR/Demonstrator/train/Segments/six/tess_6_1.mfc', '/Users/spyretta/Projects/Demo_ASR/Demonstrator/train/Segments/six/aari_6_2.wav', '/Users/spyretta/Projects/Demo_ASR/Demonstrator/train/Segments/six/tats_6_1.wav', '/Users/spyretta/Projects/Demo_ASR/Demonstrator/train/Segments/six/aari_6_3.wav', '/Users/spyretta/Projects/Demo_ASR/Demonstrator/train/Segments/six/elja_6_2.mfc', '/Users/spyretta/Projects/Demo_ASR/Demonstrator/train/Segments/six/lian_6_2.wav', '/Users/spyretta/Projects/Demo_ASR/Demonstrator/train/Segments/six/gaof_6_1.mfc', '/Users/spyretta/Projects/Demo_ASR/Demonstrator/train/Segments/six/lian_6_3.wav', '/Users/spyretta/Projects/Demo_ASR/Demonstrator/train/Segments/six/elja_6_3.mfc', '/Users/spyretta/Projects/Demo_ASR/Demonstrator/train/Segments/six/elja_6_1.mfc', '/Users/spyretta/Projects/Demo_ASR/Demonstrator/train/Segments/six/lian_6_1.wav', '/Users/spyretta/Projects/Demo_ASR/Demonstrator/train/Segments/six/gaof_6_2.mfc', '/Users/spyretta/Projects/Demo_ASR/Demonstrator/train/Segments/six/gaof_6_3.mfc', '/Users/spyretta/Projects/Demo_ASR/Demonstrator/train/Segments/five/guan_5_1.mfc', '/Users/spyretta/Projects/Demo_ASR/Demonstrator/train/Segments/five/lemi_5_1.wav', '/Users/spyretta/Projects/Demo_ASR/Demonstrator/train/Segments/five/benj_5_3.wav', '/Users/spyretta/Projects/Demo_ASR/Demonstrator/train/Segments/five/sara_5_2.wav', '/Users/spyretta/Projects/Demo_ASR/Demonstrator/train/Segments/five/jan_5_1.wav', '/Users/spyretta/Projects/Demo_ASR/Demonstrator/train/Segments/five/sara_5_3.wav', '/Users/spyretta/Projects/Demo_ASR/Demonstrator/train/Segments/five/sjor_5_1.wav', '/Users/spyretta/Projects/Demo_ASR/Demonstrator/train/Segments/five/benj_5_2.wav', '/Users/spyretta/Projects/Demo_ASR/Demonstrator/train/Segments/five/guan_5_2.mfc', '/Users/spyretta/Projects/Demo_ASR/Demonstrator/train/Segments/five/lemi_5_2.wav', '/Users/spyretta/Projects/Demo_ASR/Demonstrator/train/Segments/five/sjor_5_3.wav', '/Users/spyretta/Projects/Demo_ASR/Demonstrator/train/Segments/five/sara_5_1.wav', '/Users/spyretta/Projects/Demo_ASR/Demonstrator/train/Segments/five/jan_5_3.wav', '/Users/spyretta/Projects/Demo_ASR/Demonstrator/train/Segments/five/jan_5_2.wav', '/Users/spyretta/Projects/Demo_ASR/Demonstrator/train/Segments/five/benj_5_1.wav', '/Users/spyretta/Projects/Demo_ASR/Demonstrator/train/Segments/five/sjor_5_2.wav', '/Users/spyretta/Projects/Demo_ASR/Demonstrator/train/Segments/five/lemi_5_3.wav', '/Users/spyretta/Projects/Demo_ASR/Demonstrator/train/Segments/five/guan_5_3.mfc', '/Users/spyretta/Projects/Demo_ASR/Demonstrator/train/Segments/five/jana_5_1.mfc', '/Users/spyretta/Projects/Demo_ASR/Demonstrator/train/Segments/five/jana_5_2.mfc', '/Users/spyretta/Projects/Demo_ASR/Demonstrator/train/Segments/five/jana_5_3.mfc', '/Users/spyretta/Projects/Demo_ASR/Demonstrator/train/Segments/five/tess_5_2.wav', '/Users/spyretta/Projects/Demo_ASR/Demonstrator/train/Segments/five/ilse_5_2.wav', '/Users/spyretta/Projects/Demo_ASR/Demonstrator/train/Segments/five/tats_5_3.mfc', '/Users/spyretta/Projects/Demo_ASR/Demonstrator/train/Segments/five/aari_5_1.mfc', '/Users/spyretta/Projects/Demo_ASR/Demonstrator/train/Segments/five/tats_5_2.mfc', '/Users/spyretta/Projects/Demo_ASR/Demonstrator/train/Segments/five/ilse_5_3.wav', '/Users/spyretta/Projects/Demo_ASR/Demonstrator/train/Segments/five/tess_5_3.wav', '/Users/spyretta/Projects/Demo_ASR/Demonstrator/train/Segments/five/tess_5_1.wav', '/Users/spyretta/Projects/Demo_ASR/Demonstrator/train/Segments/five/ilse_5_1.wav', '/Users/spyretta/Projects/Demo_ASR/Demonstrator/train/Segments/five/aari_5_2.mfc', '/Users/spyretta/Projects/Demo_ASR/Demonstrator/train/Segments/five/aari_5_3.mfc', '/Users/spyretta/Projects/Demo_ASR/Demonstrator/train/Segments/five/tats_5_1.mfc', '/Users/spyretta/Projects/Demo_ASR/Demonstrator/train/Segments/five/elja_5_2.wav', '/Users/spyretta/Projects/Demo_ASR/Demonstrator/train/Segments/five/gaof_5_1.wav', '/Users/spyretta/Projects/Demo_ASR/Demonstrator/train/Segments/five/lian_5_2.mfc', '/Users/spyretta/Projects/Demo_ASR/Demonstrator/train/Segments/five/lian_5_3.mfc', '/Users/spyretta/Projects/Demo_ASR/Demonstrator/train/Segments/five/elja_5_3.wav', '/Users/spyretta/Projects/Demo_ASR/Demonstrator/train/Segments/five/elja_5_1.wav', '/Users/spyretta/Projects/Demo_ASR/Demonstrator/train/Segments/five/gaof_5_2.wav', '/Users/spyretta/Projects/Demo_ASR/Demonstrator/train/Segments/five/lian_5_1.mfc', '/Users/spyretta/Projects/Demo_ASR/Demonstrator/train/Segments/five/gaof_5_3.wav', '/Users/spyretta/Projects/Demo_ASR/Demonstrator/train/Segments/five/tats_5_2.wav', '/Users/spyretta/Projects/Demo_ASR/Demonstrator/train/Segments/five/ilse_5_3.mfc', '/Users/spyretta/Projects/Demo_ASR/Demonstrator/train/Segments/five/tess_5_3.mfc', '/Users/spyretta/Projects/Demo_ASR/Demonstrator/train/Segments/five/tess_5_2.mfc', '/Users/spyretta/Projects/Demo_ASR/Demonstrator/train/Segments/five/ilse_5_2.mfc', '/Users/spyretta/Projects/Demo_ASR/Demonstrator/train/Segments/five/tats_5_3.wav', '/Users/spyretta/Projects/Demo_ASR/Demonstrator/train/Segments/five/aari_5_1.wav', '/Users/spyretta/Projects/Demo_ASR/Demonstrator/train/Segments/five/aari_5_3.wav', '/Users/spyretta/Projects/Demo_ASR/Demonstrator/train/Segments/five/tats_5_1.wav', '/Users/spyretta/Projects/Demo_ASR/Demonstrator/train/Segments/five/tess_5_1.mfc', '/Users/spyretta/Projects/Demo_ASR/Demonstrator/train/Segments/five/ilse_5_1.mfc', '/Users/spyretta/Projects/Demo_ASR/Demonstrator/train/Segments/five/aari_5_2.wav', '/Users/spyretta/Projects/Demo_ASR/Demonstrator/train/Segments/five/lian_5_3.wav', '/Users/spyretta/Projects/Demo_ASR/Demonstrator/train/Segments/five/elja_5_3.mfc', '/Users/spyretta/Projects/Demo_ASR/Demonstrator/train/Segments/five/elja_5_2.mfc', '/Users/spyretta/Projects/Demo_ASR/Demonstrator/train/Segments/five/gaof_5_1.mfc', '/Users/spyretta/Projects/Demo_ASR/Demonstrator/train/Segments/five/lian_5_2.wav', '/Users/spyretta/Projects/Demo_ASR/Demonstrator/train/Segments/five/gaof_5_3.mfc', '/Users/spyretta/Projects/Demo_ASR/Demonstrator/train/Segments/five/elja_5_1.mfc', '/Users/spyretta/Projects/Demo_ASR/Demonstrator/train/Segments/five/gaof_5_2.mfc', '/Users/spyretta/Projects/Demo_ASR/Demonstrator/train/Segments/five/lian_5_1.wav', '/Users/spyretta/Projects/Demo_ASR/Demonstrator/train/Segments/five/sara_5_3.mfc', '/Users/spyretta/Projects/Demo_ASR/Demonstrator/train/Segments/five/jan_5_1.mfc', '/Users/spyretta/Projects/Demo_ASR/Demonstrator/train/Segments/five/benj_5_2.mfc', '/Users/spyretta/Projects/Demo_ASR/Demonstrator/train/Segments/five/sjor_5_1.mfc', '/Users/spyretta/Projects/Demo_ASR/Demonstrator/train/Segments/five/benj_5_3.mfc', '/Users/spyretta/Projects/Demo_ASR/Demonstrator/train/Segments/five/guan_5_1.wav', '/Users/spyretta/Projects/Demo_ASR/Demonstrator/train/Segments/five/lemi_5_1.mfc', '/Users/spyretta/Projects/Demo_ASR/Demonstrator/train/Segments/five/sara_5_2.mfc', '/Users/spyretta/Projects/Demo_ASR/Demonstrator/train/Segments/five/jan_5_2.mfc', '/Users/spyretta/Projects/Demo_ASR/Demonstrator/train/Segments/five/lemi_5_3.mfc', '/Users/spyretta/Projects/Demo_ASR/Demonstrator/train/Segments/five/guan_5_3.wav', '/Users/spyretta/Projects/Demo_ASR/Demonstrator/train/Segments/five/sjor_5_2.mfc', '/Users/spyretta/Projects/Demo_ASR/Demonstrator/train/Segments/five/benj_5_1.mfc', '/Users/spyretta/Projects/Demo_ASR/Demonstrator/train/Segments/five/sjor_5_3.mfc', '/Users/spyretta/Projects/Demo_ASR/Demonstrator/train/Segments/five/guan_5_2.wav', '/Users/spyretta/Projects/Demo_ASR/Demonstrator/train/Segments/five/lemi_5_2.mfc', '/Users/spyretta/Projects/Demo_ASR/Demonstrator/train/Segments/five/jan_5_3.mfc', '/Users/spyretta/Projects/Demo_ASR/Demonstrator/train/Segments/five/sara_5_1.mfc', '/Users/spyretta/Projects/Demo_ASR/Demonstrator/train/Segments/five/jana_5_1.wav', '/Users/spyretta/Projects/Demo_ASR/Demonstrator/train/Segments/five/jana_5_3.wav', '/Users/spyretta/Projects/Demo_ASR/Demonstrator/train/Segments/five/jana_5_2.wav', '/Users/spyretta/Projects/Demo_ASR/Demonstrator/train/Segments/four/aari_4_2.mfc', '/Users/spyretta/Projects/Demo_ASR/Demonstrator/train/Segments/four/tess_4_1.wav', '/Users/spyretta/Projects/Demo_ASR/Demonstrator/train/Segments/four/ilse_4_1.wav', '/Users/spyretta/Projects/Demo_ASR/Demonstrator/train/Segments/four/aari_4_3.mfc', '/Users/spyretta/Projects/Demo_ASR/Demonstrator/train/Segments/four/tats_4_1.mfc', '/Users/spyretta/Projects/Demo_ASR/Demonstrator/train/Segments/four/tats_4_3.mfc', '/Users/spyretta/Projects/Demo_ASR/Demonstrator/train/Segments/four/aari_4_1.mfc', '/Users/spyretta/Projects/Demo_ASR/Demonstrator/train/Segments/four/tess_4_2.wav', '/Users/spyretta/Projects/Demo_ASR/Demonstrator/train/Segments/four/ilse_4_2.wav', '/Users/spyretta/Projects/Demo_ASR/Demonstrator/train/Segments/four/ilse_4_3.wav', '/Users/spyretta/Projects/Demo_ASR/Demonstrator/train/Segments/four/tess_4_3.wav', '/Users/spyretta/Projects/Demo_ASR/Demonstrator/train/Segments/four/tats_4_2.mfc', '/Users/spyretta/Projects/Demo_ASR/Demonstrator/train/Segments/four/gaof_4_2.wav', '/Users/spyretta/Projects/Demo_ASR/Demonstrator/train/Segments/four/lian_4_1.mfc', '/Users/spyretta/Projects/Demo_ASR/Demonstrator/train/Segments/four/elja_4_1.wav', '/Users/spyretta/Projects/Demo_ASR/Demonstrator/train/Segments/four/gaof_4_3.wav', '/Users/spyretta/Projects/Demo_ASR/Demonstrator/train/Segments/four/gaof_4_1.wav', '/Users/spyretta/Projects/Demo_ASR/Demonstrator/train/Segments/four/lian_4_2.mfc', '/Users/spyretta/Projects/Demo_ASR/Demonstrator/train/Segments/four/elja_4_2.wav', '/Users/spyretta/Projects/Demo_ASR/Demonstrator/train/Segments/four/elja_4_3.wav', '/Users/spyretta/Projects/Demo_ASR/Demonstrator/train/Segments/four/lian_4_3.mfc', '/Users/spyretta/Projects/Demo_ASR/Demonstrator/train/Segments/four/jan_4_3.wav', '/Users/spyretta/Projects/Demo_ASR/Demonstrator/train/Segments/four/sara_4_1.wav', '/Users/spyretta/Projects/Demo_ASR/Demonstrator/train/Segments/four/sjor_4_3.wav', '/Users/spyretta/Projects/Demo_ASR/Demonstrator/train/Segments/four/guan_4_2.mfc', '/Users/spyretta/Projects/Demo_ASR/Demonstrator/train/Segments/four/lemi_4_2.wav', '/Users/spyretta/Projects/Demo_ASR/Demonstrator/train/Segments/four/lemi_4_3.wav', '/Users/spyretta/Projects/Demo_ASR/Demonstrator/train/Segments/four/guan_4_3.mfc', '/Users/spyretta/Projects/Demo_ASR/Demonstrator/train/Segments/four/sjor_4_2.wav', '/Users/spyretta/Projects/Demo_ASR/Demonstrator/train/Segments/four/benj_4_1.wav', '/Users/spyretta/Projects/Demo_ASR/Demonstrator/train/Segments/four/jan_4_2.wav', '/Users/spyretta/Projects/Demo_ASR/Demonstrator/train/Segments/four/sara_4_2.wav', '/Users/spyretta/Projects/Demo_ASR/Demonstrator/train/Segments/four/benj_4_3.wav', '/Users/spyretta/Projects/Demo_ASR/Demonstrator/train/Segments/four/guan_4_1.mfc', '/Users/spyretta/Projects/Demo_ASR/Demonstrator/train/Segments/four/lemi_4_1.wav', '/Users/spyretta/Projects/Demo_ASR/Demonstrator/train/Segments/four/benj_4_2.wav', '/Users/spyretta/Projects/Demo_ASR/Demonstrator/train/Segments/four/sjor_4_1.wav', '/Users/spyretta/Projects/Demo_ASR/Demonstrator/train/Segments/four/sara_4_3.wav', '/Users/spyretta/Projects/Demo_ASR/Demonstrator/train/Segments/four/jan_4_1.wav', '/Users/spyretta/Projects/Demo_ASR/Demonstrator/train/Segments/four/jana_4_2.mfc', '/Users/spyretta/Projects/Demo_ASR/Demonstrator/train/Segments/four/jana_4_3.mfc', '/Users/spyretta/Projects/Demo_ASR/Demonstrator/train/Segments/four/jana_4_1.mfc', '/Users/spyretta/Projects/Demo_ASR/Demonstrator/train/Segments/four/benj_4_1.mfc', '/Users/spyretta/Projects/Demo_ASR/Demonstrator/train/Segments/four/sjor_4_2.mfc', '/Users/spyretta/Projects/Demo_ASR/Demonstrator/train/Segments/four/lemi_4_3.mfc', '/Users/spyretta/Projects/Demo_ASR/Demonstrator/train/Segments/four/guan_4_3.wav', '/Users/spyretta/Projects/Demo_ASR/Demonstrator/train/Segments/four/jan_4_2.mfc', '/Users/spyretta/Projects/Demo_ASR/Demonstrator/train/Segments/four/sara_4_1.mfc', '/Users/spyretta/Projects/Demo_ASR/Demonstrator/train/Segments/four/jan_4_3.mfc', '/Users/spyretta/Projects/Demo_ASR/Demonstrator/train/Segments/four/guan_4_2.wav', '/Users/spyretta/Projects/Demo_ASR/Demonstrator/train/Segments/four/lemi_4_2.mfc', '/Users/spyretta/Projects/Demo_ASR/Demonstrator/train/Segments/four/sjor_4_3.mfc', '/Users/spyretta/Projects/Demo_ASR/Demonstrator/train/Segments/four/sjor_4_1.mfc', '/Users/spyretta/Projects/Demo_ASR/Demonstrator/train/Segments/four/benj_4_2.mfc', '/Users/spyretta/Projects/Demo_ASR/Demonstrator/train/Segments/four/jan_4_1.mfc', '/Users/spyretta/Projects/Demo_ASR/Demonstrator/train/Segments/four/sara_4_3.mfc', '/Users/spyretta/Projects/Demo_ASR/Demonstrator/train/Segments/four/sara_4_2.mfc', '/Users/spyretta/Projects/Demo_ASR/Demonstrator/train/Segments/four/guan_4_1.wav', '/Users/spyretta/Projects/Demo_ASR/Demonstrator/train/Segments/four/lemi_4_1.mfc', '/Users/spyretta/Projects/Demo_ASR/Demonstrator/train/Segments/four/benj_4_3.mfc', '/Users/spyretta/Projects/Demo_ASR/Demonstrator/train/Segments/four/jana_4_3.wav', '/Users/spyretta/Projects/Demo_ASR/Demonstrator/train/Segments/four/jana_4_2.wav', '/Users/spyretta/Projects/Demo_ASR/Demonstrator/train/Segments/four/jana_4_1.wav', '/Users/spyretta/Projects/Demo_ASR/Demonstrator/train/Segments/four/aari_4_3.wav', '/Users/spyretta/Projects/Demo_ASR/Demonstrator/train/Segments/four/tats_4_1.wav', '/Users/spyretta/Projects/Demo_ASR/Demonstrator/train/Segments/four/aari_4_2.wav', '/Users/spyretta/Projects/Demo_ASR/Demonstrator/train/Segments/four/tess_4_1.mfc', '/Users/spyretta/Projects/Demo_ASR/Demonstrator/train/Segments/four/ilse_4_1.mfc', '/Users/spyretta/Projects/Demo_ASR/Demonstrator/train/Segments/four/ilse_4_3.mfc', '/Users/spyretta/Projects/Demo_ASR/Demonstrator/train/Segments/four/tess_4_3.mfc', '/Users/spyretta/Projects/Demo_ASR/Demonstrator/train/Segments/four/tats_4_2.wav', '/Users/spyretta/Projects/Demo_ASR/Demonstrator/train/Segments/four/tats_4_3.wav', '/Users/spyretta/Projects/Demo_ASR/Demonstrator/train/Segments/four/aari_4_1.wav', '/Users/spyretta/Projects/Demo_ASR/Demonstrator/train/Segments/four/tess_4_2.mfc', '/Users/spyretta/Projects/Demo_ASR/Demonstrator/train/Segments/four/ilse_4_2.mfc', '/Users/spyretta/Projects/Demo_ASR/Demonstrator/train/Segments/four/gaof_4_3.mfc', '/Users/spyretta/Projects/Demo_ASR/Demonstrator/train/Segments/four/gaof_4_2.mfc', '/Users/spyretta/Projects/Demo_ASR/Demonstrator/train/Segments/four/lian_4_1.wav', '/Users/spyretta/Projects/Demo_ASR/Demonstrator/train/Segments/four/elja_4_1.mfc', '/Users/spyretta/Projects/Demo_ASR/Demonstrator/train/Segments/four/elja_4_3.mfc', '/Users/spyretta/Projects/Demo_ASR/Demonstrator/train/Segments/four/lian_4_3.wav', '/Users/spyretta/Projects/Demo_ASR/Demonstrator/train/Segments/four/gaof_4_1.mfc', '/Users/spyretta/Projects/Demo_ASR/Demonstrator/train/Segments/four/lian_4_2.wav', '/Users/spyretta/Projects/Demo_ASR/Demonstrator/train/Segments/four/elja_4_2.mfc']\n"
     ]
    }
   ],
   "source": [
    "print(glob(\"/Users/spyretta/Projects/Demo_ASR/Demonstrator/train/Segments/*/*\", recursive = True))\n",
    "\n"
   ]
  },
  {
   "cell_type": "code",
   "execution_count": 53,
   "metadata": {},
   "outputs": [],
   "source": [
    "# get training_wav.list.scp\n",
    "\n",
    "file_paths = glob(\"/Users/spyretta/Projects/Demo_ASR/Demonstrator/train/Segments/*/*\", recursive = True)\n",
    "\n",
    "with open(\"/Users/spyretta/Projects/Demo_ASR/Demonstrator/training_wav.list.scp\",\"w\") as spc_f:\n",
    "    for path in file_paths:\n",
    "        if path.endswith(\"wav\"):\n",
    "            spc_f.write(path+\"\\n\")\n"
   ]
  },
  {
   "cell_type": "code",
   "execution_count": 54,
   "metadata": {},
   "outputs": [],
   "source": [
    "# get training_mfclist.scp\n",
    "\n",
    "with open(\"/Users/spyretta/Projects/Demo_ASR/Demonstrator/training_mfclist.scp\",\"w\") as spc_f:\n",
    "    for path in file_paths:\n",
    "        if path.endswith(\"wav\"):\n",
    "            path = path.replace(\".wav\",\".mfc\")\n",
    "            spc_f.write(path+\"\\n\")"
   ]
  },
  {
   "cell_type": "code",
   "execution_count": 25,
   "metadata": {},
   "outputs": [],
   "source": [
    "# TODO check three\n",
    "\n",
    "digit_mappings = {\"zero\":\"0\", \"one\":\"1\",\"two\":\"2\", \"three\":\"3\",\"four\":\"4\",\n",
    "                 \"five\":\"5\",\"six\":\"6\",\"seven\":\"7\",\"eight\":\"8\",\"nine\":\"9\"}\n",
    "\n",
    "for digit in digit_mappings:\n",
    "    with open(f\"/Users/spyretta/Projects/Demo_ASR/Demonstrator/training_{digit_mappings.get(digit)}_mfc.scp\",\"w\") as spc_f:\n",
    "        file_paths = glob(f\"/Users/spyretta/Projects/Demo_ASR/Demonstrator/train/Segments/{digit}/*\", recursive = True)\n",
    "        for path in file_paths:\n",
    "            path = path.replace(\".wav\",\".mfc\")\n",
    "            spc_f.write(path+\"\\n\")\n",
    "         "
   ]
  },
  {
   "cell_type": "code",
   "execution_count": 26,
   "metadata": {},
   "outputs": [],
   "source": [
    "## Testing"
   ]
  },
  {
   "cell_type": "code",
   "execution_count": 55,
   "metadata": {},
   "outputs": [],
   "source": [
    "# get test_wav.list.scp\n",
    "\n",
    "test_folders = [\"spyretta\",\"judith\",\"kirsten\"]\n",
    "\n",
    "for name in test_folders:\n",
    "    file_paths = glob(f\"/Users/spyretta/Projects/Demo_ASR/Demonstrator/TEST/{name}/*\", recursive = True)\n",
    "\n",
    "    with open(f\"/Users/spyretta/Projects/Demo_ASR/Demonstrator/test_{name}_wav.list.scp\",\"w\") as spc_f:\n",
    "        for path in file_paths:\n",
    "            if path.endswith(\"wav\"):\n",
    "                spc_f.write(path+\"\\n\")\n",
    "\n"
   ]
  },
  {
   "cell_type": "code",
   "execution_count": 56,
   "metadata": {},
   "outputs": [],
   "source": [
    "# get test_mfclist.scp\n",
    "\n",
    "test_folders = [\"spyretta\",\"judith\",\"kirsten\"]\n",
    "\n",
    "for name in test_folders:\n",
    "    file_paths = glob(f\"/Users/spyretta/Projects/Demo_ASR/Demonstrator/TEST/{name}/*\", recursive = True)\n",
    "    with open(f\"/Users/spyretta/Projects/Demo_ASR/Demonstrator/test_{name}_mfclist.scp\",\"w\") as spc_f:\n",
    "        for path in file_paths:\n",
    "            if path.endswith(\"wav\"):\n",
    "                path = path.replace(\".wav\",\".mfc\")\n",
    "                spc_f.write(path+\"\\n\")"
   ]
  },
  {
   "cell_type": "code",
   "execution_count": 62,
   "metadata": {},
   "outputs": [],
   "source": [
    "!paste -d ' ' test_spyretta_wav.list.scp test_spyretta_mfclist.scp >test_spyretta.scp"
   ]
  },
  {
   "cell_type": "code",
   "execution_count": 63,
   "metadata": {},
   "outputs": [],
   "source": [
    "!paste -d ' ' test_judith_wav.list.scp test_judith_mfclist.scp >test_judith.scp"
   ]
  },
  {
   "cell_type": "code",
   "execution_count": 64,
   "metadata": {},
   "outputs": [],
   "source": [
    "!paste -d ' ' test_kirsten_wav.list.scp test_kirsten_mfclist.scp >test_kirsten.scp"
   ]
  },
  {
   "cell_type": "code",
   "execution_count": 66,
   "metadata": {},
   "outputs": [
    {
     "name": "stdout",
     "output_type": "stream",
     "text": [
      "./htk/bin/HCopy -A -D -T 1 -C config -S test_spyretta.scp \r\n",
      "\r\n",
      "HTK Configuration Parameters[11]\r\n",
      "  Module/Tool     Parameter                  Value\r\n",
      "#                 SOURCEFORMAT                 WAV\r\n",
      "#                 NUMCEPS                       12\r\n",
      "#                 CEPLIFTER                     22\r\n",
      "#                 NUMCHANS                      26\r\n",
      "#                 PREEMCOEF               0.970000\r\n",
      "#                 USEHAMMING                  TRUE\r\n",
      "#                 WINDOWSIZE         250000.000000\r\n",
      "#                 SAVEWITHCRC                 TRUE\r\n",
      "#                 SAVECOMPRESSED              TRUE\r\n",
      "#                 TARGETRATE         100000.000000\r\n",
      "#                 TARGETKIND              MFCC_0_D\r\n",
      "\r\n",
      "/Users/spyretta/Projects/Demo_ASR/Demonstrator/TEST/spyretta/spyr_7_3.wav \r\n",
      "    -> /Users/spyretta/Projects/Demo_ASR/Demonstrator/TEST/spyretta/spyr_7_3.mfc \r\n",
      "/Users/spyretta/Projects/Demo_ASR/Demonstrator/TEST/spyretta/spyr_5_3.wav \r\n",
      "    -> /Users/spyretta/Projects/Demo_ASR/Demonstrator/TEST/spyretta/spyr_5_3.mfc \r\n",
      "/Users/spyretta/Projects/Demo_ASR/Demonstrator/TEST/spyretta/spyr_1_3.wav \r\n",
      "    -> /Users/spyretta/Projects/Demo_ASR/Demonstrator/TEST/spyretta/spyr_1_3.mfc \r\n",
      "/Users/spyretta/Projects/Demo_ASR/Demonstrator/TEST/spyretta/spyr_3_3.wav \r\n",
      "    -> /Users/spyretta/Projects/Demo_ASR/Demonstrator/TEST/spyretta/spyr_3_3.mfc \r\n",
      "/Users/spyretta/Projects/Demo_ASR/Demonstrator/TEST/spyretta/spyr_4_3.wav \r\n",
      "    -> /Users/spyretta/Projects/Demo_ASR/Demonstrator/TEST/spyretta/spyr_4_3.mfc \r\n",
      "/Users/spyretta/Projects/Demo_ASR/Demonstrator/TEST/spyretta/spyr_6_3.wav \r\n",
      "    -> /Users/spyretta/Projects/Demo_ASR/Demonstrator/TEST/spyretta/spyr_6_3.mfc \r\n",
      "/Users/spyretta/Projects/Demo_ASR/Demonstrator/TEST/spyretta/spyr_2_3.wav \r\n",
      "    -> /Users/spyretta/Projects/Demo_ASR/Demonstrator/TEST/spyretta/spyr_2_3.mfc \r\n",
      "/Users/spyretta/Projects/Demo_ASR/Demonstrator/TEST/spyretta/spyr_0_3.wav \r\n",
      "    -> /Users/spyretta/Projects/Demo_ASR/Demonstrator/TEST/spyretta/spyr_0_3.mfc \r\n",
      "/Users/spyretta/Projects/Demo_ASR/Demonstrator/TEST/spyretta/spyr_8_3.wav \r\n",
      "    -> /Users/spyretta/Projects/Demo_ASR/Demonstrator/TEST/spyretta/spyr_8_3.mfc \r\n",
      "/Users/spyretta/Projects/Demo_ASR/Demonstrator/TEST/spyretta/spyr_9_3.wav \r\n",
      "    -> /Users/spyretta/Projects/Demo_ASR/Demonstrator/TEST/spyretta/spyr_9_3.mfc \r\n",
      "\r\n",
      "HTK Configuration Parameters[11]\r\n",
      "  Module/Tool     Parameter                  Value\r\n",
      "                  SOURCEFORMAT                 WAV\r\n",
      "                  NUMCEPS                       12\r\n",
      "                  CEPLIFTER                     22\r\n",
      "                  NUMCHANS                      26\r\n",
      "                  PREEMCOEF               0.970000\r\n",
      "                  USEHAMMING                  TRUE\r\n",
      "                  WINDOWSIZE         250000.000000\r\n",
      "                  SAVEWITHCRC                 TRUE\r\n",
      "                  SAVECOMPRESSED              TRUE\r\n",
      "                  TARGETRATE         100000.000000\r\n",
      "                  TARGETKIND              MFCC_0_D\r\n",
      "\r\n"
     ]
    }
   ],
   "source": [
    "!./htk/bin/HCopy -A -D -T 1 -C config -S test_spyretta.scp"
   ]
  },
  {
   "cell_type": "code",
   "execution_count": 67,
   "metadata": {},
   "outputs": [
    {
     "name": "stdout",
     "output_type": "stream",
     "text": [
      "./htk/bin/HCopy -A -D -T 1 -C config -S test_judith.scp \r\n",
      "\r\n",
      "HTK Configuration Parameters[11]\r\n",
      "  Module/Tool     Parameter                  Value\r\n",
      "#                 SOURCEFORMAT                 WAV\r\n",
      "#                 NUMCEPS                       12\r\n",
      "#                 CEPLIFTER                     22\r\n",
      "#                 NUMCHANS                      26\r\n",
      "#                 PREEMCOEF               0.970000\r\n",
      "#                 USEHAMMING                  TRUE\r\n",
      "#                 WINDOWSIZE         250000.000000\r\n",
      "#                 SAVEWITHCRC                 TRUE\r\n",
      "#                 SAVECOMPRESSED              TRUE\r\n",
      "#                 TARGETRATE         100000.000000\r\n",
      "#                 TARGETKIND              MFCC_0_D\r\n",
      "\r\n",
      "/Users/spyretta/Projects/Demo_ASR/Demonstrator/TEST/judith/judi_8_2.wav \r\n",
      "    -> /Users/spyretta/Projects/Demo_ASR/Demonstrator/TEST/judith/judi_8_2.mfc \r\n",
      "/Users/spyretta/Projects/Demo_ASR/Demonstrator/TEST/judith/judi_9_2.wav \r\n",
      "    -> /Users/spyretta/Projects/Demo_ASR/Demonstrator/TEST/judith/judi_9_2.mfc \r\n",
      "/Users/spyretta/Projects/Demo_ASR/Demonstrator/TEST/judith/judi_5_2.wav \r\n",
      "    -> /Users/spyretta/Projects/Demo_ASR/Demonstrator/TEST/judith/judi_5_2.mfc \r\n",
      "/Users/spyretta/Projects/Demo_ASR/Demonstrator/TEST/judith/judi_7_2.wav \r\n",
      "    -> /Users/spyretta/Projects/Demo_ASR/Demonstrator/TEST/judith/judi_7_2.mfc \r\n",
      "/Users/spyretta/Projects/Demo_ASR/Demonstrator/TEST/judith/judi_3_2.wav \r\n",
      "    -> /Users/spyretta/Projects/Demo_ASR/Demonstrator/TEST/judith/judi_3_2.mfc \r\n",
      "/Users/spyretta/Projects/Demo_ASR/Demonstrator/TEST/judith/judi_1_2.wav \r\n",
      "    -> /Users/spyretta/Projects/Demo_ASR/Demonstrator/TEST/judith/judi_1_2.mfc \r\n",
      "/Users/spyretta/Projects/Demo_ASR/Demonstrator/TEST/judith/judi_6_2.wav \r\n",
      "    -> /Users/spyretta/Projects/Demo_ASR/Demonstrator/TEST/judith/judi_6_2.mfc \r\n",
      "/Users/spyretta/Projects/Demo_ASR/Demonstrator/TEST/judith/judi_4_2.wav \r\n",
      "    -> /Users/spyretta/Projects/Demo_ASR/Demonstrator/TEST/judith/judi_4_2.mfc \r\n",
      "/Users/spyretta/Projects/Demo_ASR/Demonstrator/TEST/judith/judi_0_2.wav \r\n",
      "    -> /Users/spyretta/Projects/Demo_ASR/Demonstrator/TEST/judith/judi_0_2.mfc \r\n",
      "/Users/spyretta/Projects/Demo_ASR/Demonstrator/TEST/judith/judi_2_2.wav \r\n",
      "    -> /Users/spyretta/Projects/Demo_ASR/Demonstrator/TEST/judith/judi_2_2.mfc \r\n",
      "\r\n",
      "HTK Configuration Parameters[11]\r\n",
      "  Module/Tool     Parameter                  Value\r\n",
      "                  SOURCEFORMAT                 WAV\r\n",
      "                  NUMCEPS                       12\r\n",
      "                  CEPLIFTER                     22\r\n",
      "                  NUMCHANS                      26\r\n",
      "                  PREEMCOEF               0.970000\r\n",
      "                  USEHAMMING                  TRUE\r\n",
      "                  WINDOWSIZE         250000.000000\r\n",
      "                  SAVEWITHCRC                 TRUE\r\n",
      "                  SAVECOMPRESSED              TRUE\r\n",
      "                  TARGETRATE         100000.000000\r\n",
      "                  TARGETKIND              MFCC_0_D\r\n",
      "\r\n"
     ]
    }
   ],
   "source": [
    "!./htk/bin/HCopy -A -D -T 1 -C config -S test_judith.scp"
   ]
  },
  {
   "cell_type": "code",
   "execution_count": 68,
   "metadata": {},
   "outputs": [
    {
     "name": "stdout",
     "output_type": "stream",
     "text": [
      "./htk/bin/HCopy -A -D -T 1 -C config -S test_kirsten.scp \n",
      "\n",
      "HTK Configuration Parameters[11]\n",
      "  Module/Tool     Parameter                  Value\n",
      "#                 SOURCEFORMAT                 WAV\n",
      "#                 NUMCEPS                       12\n",
      "#                 CEPLIFTER                     22\n",
      "#                 NUMCHANS                      26\n",
      "#                 PREEMCOEF               0.970000\n",
      "#                 USEHAMMING                  TRUE\n",
      "#                 WINDOWSIZE         250000.000000\n",
      "#                 SAVEWITHCRC                 TRUE\n",
      "#                 SAVECOMPRESSED              TRUE\n",
      "#                 TARGETRATE         100000.000000\n",
      "#                 TARGETKIND              MFCC_0_D\n",
      "\n",
      "/Users/spyretta/Projects/Demo_ASR/Demonstrator/TEST/kirsten/kirs_8_3.wav \n",
      "    -> /Users/spyretta/Projects/Demo_ASR/Demonstrator/TEST/kirsten/kirs_8_3.mfc \n",
      "/Users/spyretta/Projects/Demo_ASR/Demonstrator/TEST/kirsten/kirs_9_3.wav \n",
      "    -> /Users/spyretta/Projects/Demo_ASR/Demonstrator/TEST/kirsten/kirs_9_3.mfc \n",
      "/Users/spyretta/Projects/Demo_ASR/Demonstrator/TEST/kirsten/kirs_1_3.wav \n",
      "    -> /Users/spyretta/Projects/Demo_ASR/Demonstrator/TEST/kirsten/kirs_1_3.mfc \n",
      "/Users/spyretta/Projects/Demo_ASR/Demonstrator/TEST/kirsten/kirs_3_3.wav \n",
      "    -> /Users/spyretta/Projects/Demo_ASR/Demonstrator/TEST/kirsten/kirs_3_3.mfc \n",
      "/Users/spyretta/Projects/Demo_ASR/Demonstrator/TEST/kirsten/kirs_7_3.wav \n",
      "    -> /Users/spyretta/Projects/Demo_ASR/Demonstrator/TEST/kirsten/kirs_7_3.mfc \n",
      "/Users/spyretta/Projects/Demo_ASR/Demonstrator/TEST/kirsten/kirs_5_3.wav \n",
      "    -> /Users/spyretta/Projects/Demo_ASR/Demonstrator/TEST/kirsten/kirs_5_3.mfc \n",
      "/Users/spyretta/Projects/Demo_ASR/Demonstrator/TEST/kirsten/kirs_2_3.wav \n",
      "    -> /Users/spyretta/Projects/Demo_ASR/Demonstrator/TEST/kirsten/kirs_2_3.mfc \n",
      "/Users/spyretta/Projects/Demo_ASR/Demonstrator/TEST/kirsten/kirs_0_3.wav \n",
      "    -> /Users/spyretta/Projects/Demo_ASR/Demonstrator/TEST/kirsten/kirs_0_3.mfc \n",
      "/Users/spyretta/Projects/Demo_ASR/Demonstrator/TEST/kirsten/kirs_4_3.wav \n",
      "    -> /Users/spyretta/Projects/Demo_ASR/Demonstrator/TEST/kirsten/kirs_4_3.mfc \n",
      "/Users/spyretta/Projects/Demo_ASR/Demonstrator/TEST/kirsten/kirs_6_3.wav \n",
      "    -> /Users/spyretta/Projects/Demo_ASR/Demonstrator/TEST/kirsten/kirs_6_3.mfc \n",
      "\n",
      "HTK Configuration Parameters[11]\n",
      "  Module/Tool     Parameter                  Value\n",
      "                  SOURCEFORMAT                 WAV\n",
      "                  NUMCEPS                       12\n",
      "                  CEPLIFTER                     22\n",
      "                  NUMCHANS                      26\n",
      "                  PREEMCOEF               0.970000\n",
      "                  USEHAMMING                  TRUE\n",
      "                  WINDOWSIZE         250000.000000\n",
      "                  SAVEWITHCRC                 TRUE\n",
      "                  SAVECOMPRESSED              TRUE\n",
      "                  TARGETRATE         100000.000000\n",
      "                  TARGETKIND              MFCC_0_D\n",
      "\n"
     ]
    }
   ],
   "source": [
    "!./htk/bin/HCopy -A -D -T 1 -C config -S test_kirsten.scp"
   ]
  },
  {
   "cell_type": "code",
   "execution_count": 70,
   "metadata": {},
   "outputs": [
    {
     "name": "stdout",
     "output_type": "stream",
     "text": [
      "Creating HParse net from file gram.txt\r\n",
      "Generating Lattice with 13 nodes and 21 links\r\n",
      "Writing Word Lattice to net.slf\r\n"
     ]
    }
   ],
   "source": [
    "!./htk/bin/HParse -T 1 gram.txt net.slf"
   ]
  },
  {
   "cell_type": "code",
   "execution_count": 71,
   "metadata": {},
   "outputs": [
    {
     "name": "stdout",
     "output_type": "stream",
     "text": [
      "ONE \r\n",
      "THREE \r\n",
      "SEVEN \r\n",
      "NINE \r\n",
      "FIVE \r\n",
      "SIX \r\n",
      "TWO \r\n",
      "FIVE \r\n",
      "EIGHT \r\n",
      "TWO \r\n"
     ]
    }
   ],
   "source": [
    "!./htk/bin/HSGen -n 10 net.slf dict.txt"
   ]
  },
  {
   "cell_type": "code",
   "execution_count": 18,
   "metadata": {},
   "outputs": [],
   "source": [
    "# !./htk/bin/HVite -H HMM2/ZERO –H HMM2/ONE -H HMM2/TWO -H HMM2/THREE -H HMM2/FOUR -H HMM2/FIVE -H HMM2/SIX -H HMM2/SEVEN -H HMM2/EIGHT -H HMM2/NINE -i reco.mlf -w net.slf dict.txt hmmlist.txt -S test_spyretta_mfclist.scp"
   ]
  },
  {
   "cell_type": "code",
   "execution_count": 72,
   "metadata": {},
   "outputs": [
    {
     "name": "stdout",
     "output_type": "stream",
     "text": [
      "  ERROR [+7060]  InitHMMSet: Expected newline after 2'th HMM\r\n",
      "  ERROR [+3228]  Initialise: MakeHMMSet failed\r\n",
      " FATAL ERROR - Terminating program ./htk/bin/HVite\r\n"
     ]
    }
   ],
   "source": [
    "!sh hvite.sh"
   ]
  },
  {
   "cell_type": "code",
   "execution_count": null,
   "metadata": {},
   "outputs": [],
   "source": []
  }
 ],
 "metadata": {
  "kernelspec": {
   "display_name": "asr_demo_39",
   "language": "python",
   "name": "asr_demo_39"
  },
  "language_info": {
   "codemirror_mode": {
    "name": "ipython",
    "version": 3
   },
   "file_extension": ".py",
   "mimetype": "text/x-python",
   "name": "python",
   "nbconvert_exporter": "python",
   "pygments_lexer": "ipython3",
   "version": "3.9.7"
  }
 },
 "nbformat": 4,
 "nbformat_minor": 4
}
